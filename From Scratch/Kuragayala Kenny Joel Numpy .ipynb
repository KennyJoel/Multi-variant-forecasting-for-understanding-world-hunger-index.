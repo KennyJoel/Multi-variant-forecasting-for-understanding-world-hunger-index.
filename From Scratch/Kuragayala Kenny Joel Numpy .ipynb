{
 "cells": [
  {
   "cell_type": "markdown",
   "id": "93e5de5e",
   "metadata": {},
   "source": [
    "# Kuragayala Kenny Joel Numpy\n",
    "\n",
    "In this Machine Learning Lab - 1. I have explored various and played around the numpy library.\n",
    "\n",
    "\n",
    "\n",
    "\n",
    "**Report**\n",
    "\n",
    "\n",
    "The numpy libeary helps in various kinds of getting random values and helps in calculating also.\n",
    "\n",
    "\n",
    "-> Helps in generating random numbers.\n",
    "\n",
    "\n",
    "-> Helps in reshaping the array\n",
    "\n",
    "\n",
    "-> Helps in find mathematical oycomes like logarithms, Square roots.\n",
    "\n",
    "\n",
    "-> We can play with all these"
   ]
  },
  {
   "cell_type": "code",
   "execution_count": 1,
   "id": "379343b0",
   "metadata": {},
   "outputs": [],
   "source": [
    "#importing numpy\n",
    "import numpy as np\n",
    "from timeit import default_timer as timer"
   ]
  },
  {
   "cell_type": "code",
   "execution_count": 2,
   "id": "79da7fdc",
   "metadata": {},
   "outputs": [],
   "source": [
    "#importing random values\n",
    "a  = np.random.randint(9, size=(100))"
   ]
  },
  {
   "cell_type": "code",
   "execution_count": 3,
   "id": "4ecaafea",
   "metadata": {},
   "outputs": [
    {
     "name": "stdout",
     "output_type": "stream",
     "text": [
      "[7 0 3 1 2 7 0 2 6 0 7 6 2 8 4 3 1 0 0 4 5 4 7 5 8 3 1 0 5 0 7 3 1 2 3 0 7\n",
      " 4 6 2 6 1 7 8 3 0 1 7 2 4 2 5 2 4 4 0 0 7 1 3 4 6 1 3 0 3 5 6 3 3 2 1 0 1\n",
      " 6 0 3 7 7 1 6 2 7 1 3 4 0 5 5 2 5 2 8 0 3 2 6 2 3 8]\n"
     ]
    }
   ],
   "source": [
    "print(a) # just shows all elements"
   ]
  },
  {
   "cell_type": "code",
   "execution_count": 4,
   "id": "7d23b0b7",
   "metadata": {},
   "outputs": [
    {
     "name": "stdout",
     "output_type": "stream",
     "text": [
      "(100,)\n"
     ]
    }
   ],
   "source": [
    "print(a.shape) # shows the shape based on element (3,)"
   ]
  },
  {
   "cell_type": "code",
   "execution_count": 5,
   "id": "9de8dfb2",
   "metadata": {},
   "outputs": [
    {
     "name": "stdout",
     "output_type": "stream",
     "text": [
      "int32\n"
     ]
    }
   ],
   "source": [
    "print(a.dtype) # shows the datatype int 32 or int 64"
   ]
  },
  {
   "cell_type": "code",
   "execution_count": 6,
   "id": "c18c4772",
   "metadata": {},
   "outputs": [
    {
     "name": "stdout",
     "output_type": "stream",
     "text": [
      "1\n"
     ]
    }
   ],
   "source": [
    "print(a.ndim) #shows the dimension, here it is one dimension"
   ]
  },
  {
   "cell_type": "code",
   "execution_count": 7,
   "id": "8c4b8061",
   "metadata": {},
   "outputs": [
    {
     "name": "stdout",
     "output_type": "stream",
     "text": [
      "100\n"
     ]
    }
   ],
   "source": [
    "print(a.size) #shows the length of array based on elements"
   ]
  },
  {
   "cell_type": "code",
   "execution_count": 8,
   "id": "5a8e649e",
   "metadata": {},
   "outputs": [
    {
     "name": "stdout",
     "output_type": "stream",
     "text": [
      "4\n"
     ]
    }
   ],
   "source": [
    "print(a.itemsize) #each element ina array has 4 or 8 bytes"
   ]
  },
  {
   "cell_type": "code",
   "execution_count": 9,
   "id": "7a114453",
   "metadata": {},
   "outputs": [
    {
     "name": "stdout",
     "output_type": "stream",
     "text": [
      "7\n"
     ]
    }
   ],
   "source": [
    "print(a[0]) #accesing element thru index position"
   ]
  },
  {
   "cell_type": "code",
   "execution_count": 10,
   "id": "a3f786be",
   "metadata": {},
   "outputs": [
    {
     "name": "stdout",
     "output_type": "stream",
     "text": [
      "[11  4  7  5  6 11  4  6 10  4 11 10  6 12  8  7  5  4  4  8  9  8 11  9\n",
      " 12  7  5  4  9  4 11  7  5  6  7  4 11  8 10  6 10  5 11 12  7  4  5 11\n",
      "  6  8  6  9  6  8  8  4  4 11  5  7  8 10  5  7  4  7  9 10  7  7  6  5\n",
      "  4  5 10  4  7 11 11  5 10  6 11  5  7  8  4  9  9  6  9  6 12  4  7  6\n",
      " 10  6  7 12]\n"
     ]
    }
   ],
   "source": [
    "b=a+np.array([4]) #here we are adding 4 lets see this operation. this is called boradcasting method or use a=a+np.array([4,4,4])\n",
    "print(b) # observe here it is adding 4 to every elemtn in array [5 6 7]"
   ]
  },
  {
   "cell_type": "code",
   "execution_count": 11,
   "id": "f7b75733",
   "metadata": {},
   "outputs": [
    {
     "name": "stdout",
     "output_type": "stream",
     "text": [
      "[2.64575131 0.         1.73205081 1.         1.41421356 2.64575131\n",
      " 0.         1.41421356 2.44948974 0.         2.64575131 2.44948974\n",
      " 1.41421356 2.82842712 2.         1.73205081 1.         0.\n",
      " 0.         2.         2.23606798 2.         2.64575131 2.23606798\n",
      " 2.82842712 1.73205081 1.         0.         2.23606798 0.\n",
      " 2.64575131 1.73205081 1.         1.41421356 1.73205081 0.\n",
      " 2.64575131 2.         2.44948974 1.41421356 2.44948974 1.\n",
      " 2.64575131 2.82842712 1.73205081 0.         1.         2.64575131\n",
      " 1.41421356 2.         1.41421356 2.23606798 1.41421356 2.\n",
      " 2.         0.         0.         2.64575131 1.         1.73205081\n",
      " 2.         2.44948974 1.         1.73205081 0.         1.73205081\n",
      " 2.23606798 2.44948974 1.73205081 1.73205081 1.41421356 1.\n",
      " 0.         1.         2.44948974 0.         1.73205081 2.64575131\n",
      " 2.64575131 1.         2.44948974 1.41421356 2.64575131 1.\n",
      " 1.73205081 2.         0.         2.23606798 2.23606798 1.41421356\n",
      " 2.23606798 1.41421356 2.82842712 0.         1.73205081 1.41421356\n",
      " 2.44948974 1.41421356 1.73205081 2.82842712]\n"
     ]
    }
   ],
   "source": [
    "#any operations on array operate element wise\n",
    "c=np.sqrt(a)\n",
    "print(c)"
   ]
  },
  {
   "cell_type": "code",
   "execution_count": 12,
   "id": "843c1277",
   "metadata": {},
   "outputs": [
    {
     "name": "stdout",
     "output_type": "stream",
     "text": [
      "[1.94591015       -inf 1.09861229 0.         0.69314718 1.94591015\n",
      "       -inf 0.69314718 1.79175947       -inf 1.94591015 1.79175947\n",
      " 0.69314718 2.07944154 1.38629436 1.09861229 0.               -inf\n",
      "       -inf 1.38629436 1.60943791 1.38629436 1.94591015 1.60943791\n",
      " 2.07944154 1.09861229 0.               -inf 1.60943791       -inf\n",
      " 1.94591015 1.09861229 0.         0.69314718 1.09861229       -inf\n",
      " 1.94591015 1.38629436 1.79175947 0.69314718 1.79175947 0.\n",
      " 1.94591015 2.07944154 1.09861229       -inf 0.         1.94591015\n",
      " 0.69314718 1.38629436 0.69314718 1.60943791 0.69314718 1.38629436\n",
      " 1.38629436       -inf       -inf 1.94591015 0.         1.09861229\n",
      " 1.38629436 1.79175947 0.         1.09861229       -inf 1.09861229\n",
      " 1.60943791 1.79175947 1.09861229 1.09861229 0.69314718 0.\n",
      "       -inf 0.         1.79175947       -inf 1.09861229 1.94591015\n",
      " 1.94591015 0.         1.79175947 0.69314718 1.94591015 0.\n",
      " 1.09861229 1.38629436       -inf 1.60943791 1.60943791 0.69314718\n",
      " 1.60943791 0.69314718 2.07944154       -inf 1.09861229 0.69314718\n",
      " 1.79175947 0.69314718 1.09861229 2.07944154]\n"
     ]
    },
    {
     "name": "stderr",
     "output_type": "stream",
     "text": [
      "C:\\Users\\pc\\AppData\\Local\\Temp/ipykernel_8884/4102135006.py:1: RuntimeWarning: divide by zero encountered in log\n",
      "  d=np.log(a)\n"
     ]
    }
   ],
   "source": [
    "d=np.log(a)\n",
    "print(d)"
   ]
  },
  {
   "cell_type": "code",
   "execution_count": 13,
   "id": "cf02fd9e",
   "metadata": {},
   "outputs": [
    {
     "name": "stdout",
     "output_type": "stream",
     "text": [
      "3135\n"
     ]
    }
   ],
   "source": [
    "#dot product demo\n",
    "dot = 0 #temp variable\n",
    "for i in range(len(a)):\n",
    "    dot+=a[i]*b[i]\n",
    "print(dot) #prints but not clear lets make more clear"
   ]
  },
  {
   "cell_type": "code",
   "execution_count": 14,
   "id": "9c2a7c01",
   "metadata": {},
   "outputs": [],
   "source": [
    "#speed test to understand which performs best lists or arrays\n",
    "A = np.random.randint(99, size=(1000)) #useful in converting numpy array in to list using list() funtion\n",
    "B = np.random.randint(99, size=(1000))\n",
    "\n",
    "T = 10000  #to cal. dot product 10000 times"
   ]
  },
  {
   "cell_type": "code",
   "execution_count": 15,
   "id": "1ec41935",
   "metadata": {},
   "outputs": [],
   "source": [
    "# two ways  -> one using manual in for loops & other using np.dot instance function using single line\n",
    "def dot1():\n",
    "    dot = 0\n",
    "    for i in range(len(A)):\n",
    "        dot += A[i] * B[i]\n",
    "    return dot"
   ]
  },
  {
   "cell_type": "code",
   "execution_count": 16,
   "id": "4febc951",
   "metadata": {},
   "outputs": [],
   "source": [
    "def dot2():\n",
    "    return np.dot(a,b)"
   ]
  },
  {
   "cell_type": "code",
   "execution_count": 17,
   "id": "5cd96ece",
   "metadata": {},
   "outputs": [],
   "source": [
    "start = timer()\n",
    "for t in range(T):\n",
    "    dot1()\n",
    "end = timer()\n",
    "t1 = end - start"
   ]
  },
  {
   "cell_type": "code",
   "execution_count": 18,
   "id": "308bcb68",
   "metadata": {},
   "outputs": [],
   "source": [
    "start = timer()\n",
    "for t in range(T):\n",
    "    dot2()\n",
    "end = timer()\n",
    "t2 = end - start"
   ]
  },
  {
   "cell_type": "code",
   "execution_count": 19,
   "id": "bd1e77c6",
   "metadata": {},
   "outputs": [
    {
     "name": "stdout",
     "output_type": "stream",
     "text": [
      "list computation took 2.4689927\n"
     ]
    }
   ],
   "source": [
    "# observe your time differences took to compute\n",
    "print(\"list computation took\",t1)"
   ]
  },
  {
   "cell_type": "code",
   "execution_count": 20,
   "id": "9920657b",
   "metadata": {},
   "outputs": [
    {
     "name": "stdout",
     "output_type": "stream",
     "text": [
      "np.dot 0.023135800000000373\n"
     ]
    }
   ],
   "source": [
    "print('np.dot', t2)"
   ]
  },
  {
   "cell_type": "code",
   "execution_count": 21,
   "id": "0c1e08fe",
   "metadata": {},
   "outputs": [
    {
     "name": "stdout",
     "output_type": "stream",
     "text": [
      "ratio 106.71741197624289\n"
     ]
    }
   ],
   "source": [
    "print('ratio', t1/t2) #so numpy is XX.XX times faster for math operations"
   ]
  },
  {
   "cell_type": "code",
   "execution_count": 22,
   "id": "fb5fb9c5",
   "metadata": {},
   "outputs": [
    {
     "name": "stdout",
     "output_type": "stream",
     "text": [
      "[[5 7 5]\n",
      " [2 2 7]]\n"
     ]
    }
   ],
   "source": [
    "e  = np.random.randint(9, size=(2, 3))\n",
    "print(e)"
   ]
  },
  {
   "cell_type": "code",
   "execution_count": 23,
   "id": "9f0ecea9",
   "metadata": {},
   "outputs": [
    {
     "name": "stdout",
     "output_type": "stream",
     "text": [
      "(2, 3)\n"
     ]
    }
   ],
   "source": [
    "print(e.shape) # 2 rows and 3 cols"
   ]
  },
  {
   "cell_type": "code",
   "execution_count": 24,
   "id": "748745b5",
   "metadata": {},
   "outputs": [
    {
     "name": "stdout",
     "output_type": "stream",
     "text": [
      "5\n"
     ]
    }
   ],
   "source": [
    "print(e[0][0])  #or we can write short form as print(a[0,0])"
   ]
  },
  {
   "cell_type": "code",
   "execution_count": 25,
   "id": "87d6fc56",
   "metadata": {},
   "outputs": [
    {
     "name": "stdout",
     "output_type": "stream",
     "text": [
      "[5 2]\n"
     ]
    }
   ],
   "source": [
    "print(e[:,0]) # return all row elements in col 0. "
   ]
  },
  {
   "cell_type": "code",
   "execution_count": 26,
   "id": "fbcc3507",
   "metadata": {},
   "outputs": [
    {
     "name": "stdout",
     "output_type": "stream",
     "text": [
      "[5 7 5]\n"
     ]
    }
   ],
   "source": [
    "print(e[0,:]) # prints whole first row"
   ]
  },
  {
   "cell_type": "code",
   "execution_count": 27,
   "id": "4df44f80",
   "metadata": {},
   "outputs": [
    {
     "name": "stdout",
     "output_type": "stream",
     "text": [
      "[[5 2]\n",
      " [7 2]\n",
      " [5 7]]\n"
     ]
    }
   ],
   "source": [
    "print(e.T) # perform transpose operation"
   ]
  },
  {
   "cell_type": "code",
   "execution_count": 28,
   "id": "3a896792",
   "metadata": {},
   "outputs": [
    {
     "data": {
      "text/plain": [
       "array([[1, 7],\n",
       "       [5, 6]])"
      ]
     },
     "execution_count": 28,
     "metadata": {},
     "output_type": "execute_result"
    }
   ],
   "source": [
    "f = np.random.randint(9, size=(2, 2))\n",
    "f"
   ]
  },
  {
   "cell_type": "code",
   "execution_count": 29,
   "id": "de7763de",
   "metadata": {},
   "outputs": [
    {
     "name": "stdout",
     "output_type": "stream",
     "text": [
      "[[-0.20689655  0.24137931]\n",
      " [ 0.17241379 -0.03448276]]\n"
     ]
    }
   ],
   "source": [
    "print(np.linalg.inv(f)) #inverse operation"
   ]
  },
  {
   "cell_type": "code",
   "execution_count": 30,
   "id": "ef2a6313",
   "metadata": {},
   "outputs": [
    {
     "name": "stdout",
     "output_type": "stream",
     "text": [
      "-28.99999999999999\n"
     ]
    }
   ],
   "source": [
    "print(np.linalg.det(f)) # det operation"
   ]
  },
  {
   "cell_type": "code",
   "execution_count": 31,
   "id": "1c5f4ed1",
   "metadata": {},
   "outputs": [
    {
     "name": "stdout",
     "output_type": "stream",
     "text": [
      "[1 6]\n"
     ]
    }
   ],
   "source": [
    "print(np.diag(f)) #returns diagnol ele of array b here\n"
   ]
  },
  {
   "cell_type": "code",
   "execution_count": 32,
   "id": "1c150856",
   "metadata": {},
   "outputs": [
    {
     "name": "stdout",
     "output_type": "stream",
     "text": [
      "[[1 0]\n",
      " [0 6]]\n"
     ]
    }
   ],
   "source": [
    "e = np.diag(f)\n",
    "print(np.diag(e)) #returns diag ele and others showing 0."
   ]
  },
  {
   "cell_type": "code",
   "execution_count": 33,
   "id": "632e4498",
   "metadata": {},
   "outputs": [
    {
     "name": "stdout",
     "output_type": "stream",
     "text": [
      "[[2 4 8]\n",
      " [2 3 3]]\n"
     ]
    }
   ],
   "source": [
    "a  = np.random.randint(9, size=(2, 3))\n",
    "print(a)"
   ]
  },
  {
   "cell_type": "code",
   "execution_count": 34,
   "id": "9c3c63cc",
   "metadata": {},
   "outputs": [
    {
     "name": "stdout",
     "output_type": "stream",
     "text": [
      "4\n"
     ]
    }
   ],
   "source": [
    "b = a[0,1]  # based on indexing\n",
    "print(b)"
   ]
  },
  {
   "cell_type": "code",
   "execution_count": 35,
   "id": "41d42895",
   "metadata": {},
   "outputs": [
    {
     "name": "stdout",
     "output_type": "stream",
     "text": [
      "[4 8]\n"
     ]
    }
   ],
   "source": [
    "b = a[0,1:3] #in first row, it takes only first 2 elements and excludes last elem. as in the slicing\n",
    "print(b)"
   ]
  },
  {
   "cell_type": "code",
   "execution_count": 36,
   "id": "2ed32dab",
   "metadata": {},
   "outputs": [
    {
     "name": "stdout",
     "output_type": "stream",
     "text": [
      "[2 2]\n"
     ]
    }
   ],
   "source": [
    "b = a[:,0] #incase of first cols\n",
    "print(b)"
   ]
  },
  {
   "cell_type": "code",
   "execution_count": 37,
   "id": "4ebdba84",
   "metadata": {},
   "outputs": [
    {
     "name": "stdout",
     "output_type": "stream",
     "text": [
      "3\n"
     ]
    }
   ],
   "source": [
    "b = a[-1,-1] #using indices in -ve, incase to start from end. so last row, last col\n",
    "print(b)"
   ]
  },
  {
   "cell_type": "code",
   "execution_count": 38,
   "id": "b328bf49",
   "metadata": {},
   "outputs": [
    {
     "name": "stdout",
     "output_type": "stream",
     "text": [
      "3\n"
     ]
    }
   ],
   "source": [
    "b = a[-1,-2] #incase to start from end. so last row, 2nd col from end\n",
    "print(b)"
   ]
  },
  {
   "cell_type": "code",
   "execution_count": null,
   "id": "6369805e",
   "metadata": {},
   "outputs": [],
   "source": []
  }
 ],
 "metadata": {
  "kernelspec": {
   "display_name": "Python 3 (ipykernel)",
   "language": "python",
   "name": "python3"
  },
  "language_info": {
   "codemirror_mode": {
    "name": "ipython",
    "version": 3
   },
   "file_extension": ".py",
   "mimetype": "text/x-python",
   "name": "python",
   "nbconvert_exporter": "python",
   "pygments_lexer": "ipython3",
   "version": "3.9.7"
  }
 },
 "nbformat": 4,
 "nbformat_minor": 5
}
