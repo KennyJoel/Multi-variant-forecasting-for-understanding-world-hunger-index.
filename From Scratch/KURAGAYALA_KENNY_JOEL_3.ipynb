{
 "cells": [
  {
   "cell_type": "markdown",
   "id": "6f4ed01d",
   "metadata": {},
   "source": [
    "# Kuragayala Kenny Joel ML LAB 3"
   ]
  },
  {
   "cell_type": "markdown",
   "id": "9f287153",
   "metadata": {},
   "source": [
    "#ML Lab 3 Assignment: \n",
    "\n",
    "Q1: Design a simple ands multi variable linear regression system considering synthetic dataset considering:\n",
    "\n",
    "#1. Speed and Distance travelled by a car, where speed being independent variable. 20,000 samples\n",
    "#2. Consider a dataset, number of no. of experienced years Vs. Salary paid in IT industry.\n",
    "#3. To perform a electrical consumption audit for a 10 research labs in university, we need to predict which lab has highest power consumption > 200 units/month given the input data: ID of lab (each may have 15 to max 200 GPUs) Vs Power consumed in units.\n",
    "\n",
    "Q2: Consider any medical domain/ dataset of current competitions from Kaggle, UCI or Google datasets and perform the linear regression  \n",
    "#Note: You may think of solutions that can lead to benchmark submissions.\n",
    "\n",
    "\n",
    "#Report and commented code is mandatory. In report, expected on data distributions, visualizations, data cleaning, \n",
    "\n",
    "#Deadline: 2nd Feb - 8 pm \n",
    "\n",
    "#https://www.kaggle.com/search?q=predictive+analytics\n",
    "\n",
    "Expecting you to submit a jupyter notebook having three tasks with a report in the same using markdown by tomorrow (2-2-2023) - 8 pm.\n",
    "\n",
    "Save your files with the naming convention as Ugid_student_name_MLlab3.ipynb and upload using the link below before the deadline. Ensure to upload your files as per the instructions given to avoid penalty."
   ]
  },
  {
   "cell_type": "markdown",
   "id": "d82cbda1",
   "metadata": {},
   "source": [
    "**Importing Numpy, Matplotlib Pandas Library**\n",
    "\n",
    "Here I am inporting Numpy, Pandas and matplotlib library for Data preprocessing and Data visualization "
   ]
  },
  {
   "cell_type": "code",
   "execution_count": 280,
   "id": "59ae4775",
   "metadata": {},
   "outputs": [],
   "source": [
    "#Importing Numpy, Matplotlib Pandas Library\n",
    "import numpy as nm  \n",
    "import matplotlib.pyplot as plt  \n",
    "import pandas as pd  "
   ]
  },
  {
   "cell_type": "markdown",
   "id": "60a6e3d0",
   "metadata": {},
   "source": [
    "**Generating synthetic values**\n",
    "\n",
    "1st we are generating synthetic values with the help of make regression function in sk learn library which can generate synthetic values\n",
    "\n",
    "Here we are again seeing the scatter of the data."
   ]
  },
  {
   "cell_type": "code",
   "execution_count": 281,
   "id": "ec5ecca9",
   "metadata": {},
   "outputs": [
    {
     "data": {
      "image/png": "[encoded data removed]",
      "text/plain": [
       "<Figure size 432x288 with 1 Axes>"
      ]
     },
     "metadata": {
      "needs_background": "light"
     },
     "output_type": "display_data"
    }
   ],
   "source": [
    "#Importing make_regression from sklearn\n",
    "from sklearn.datasets import make_regression\n",
    "\n",
    "#creating 60000 rows and 8 columns\n",
    "X, y = make_regression(n_features= 1, n_samples=60000, random_state=42, n_targets = 1, noise=5)\n",
    "\n",
    "#scttleplot of the data\n",
    "plt.scatter(X,y)\n",
    "plt.show()"
   ]
  },
  {
   "cell_type": "markdown",
   "id": "ff418ce4",
   "metadata": {},
   "source": [
    "**Converting into Dataframe**\n",
    "\n",
    "Here we are converting the synthetic values into the datframe"
   ]
  },
  {
   "cell_type": "code",
   "execution_count": 282,
   "id": "d37b4c13",
   "metadata": {},
   "outputs": [],
   "source": [
    "#Converting into Dataframe\n",
    "df = pd.DataFrame({'SPEED': X.reshape(-1), 'DISTANCE': y.reshape(-1)})"
   ]
  },
  {
   "cell_type": "markdown",
   "id": "5b102da4",
   "metadata": {},
   "source": [
    "**Trying to load dataframe**\n",
    " \n",
    "We are loading dataframe which we defined our dataset with 'df'"
   ]
  },
  {
   "cell_type": "code",
   "execution_count": 283,
   "id": "8aa191f0",
   "metadata": {},
   "outputs": [
    {
     "data": {
      "text/html": [
       "<div>\n",
       "<style scoped>\n",
       "    .dataframe tbody tr th:only-of-type {\n",
       "        vertical-align: middle;\n",
       "    }\n",
       "\n",
       "    .dataframe tbody tr th {\n",
       "        vertical-align: top;\n",
       "    }\n",
       "\n",
       "    .dataframe thead th {\n",
       "        text-align: right;\n",
       "    }\n",
       "</style>\n",
       "<table border=\"1\" class=\"dataframe\">\n",
       "  <thead>\n",
       "    <tr style=\"text-align: right;\">\n",
       "      <th></th>\n",
       "      <th>SPEED</th>\n",
       "      <th>DISTANCE</th>\n",
       "    </tr>\n",
       "  </thead>\n",
       "  <tbody>\n",
       "    <tr>\n",
       "      <th>0</th>\n",
       "      <td>0.055199</td>\n",
       "      <td>6.674415</td>\n",
       "    </tr>\n",
       "    <tr>\n",
       "      <th>1</th>\n",
       "      <td>0.534817</td>\n",
       "      <td>9.254470</td>\n",
       "    </tr>\n",
       "    <tr>\n",
       "      <th>2</th>\n",
       "      <td>1.082877</td>\n",
       "      <td>19.526685</td>\n",
       "    </tr>\n",
       "    <tr>\n",
       "      <th>3</th>\n",
       "      <td>0.377976</td>\n",
       "      <td>8.526938</td>\n",
       "    </tr>\n",
       "    <tr>\n",
       "      <th>4</th>\n",
       "      <td>0.991827</td>\n",
       "      <td>23.534163</td>\n",
       "    </tr>\n",
       "    <tr>\n",
       "      <th>...</th>\n",
       "      <td>...</td>\n",
       "      <td>...</td>\n",
       "    </tr>\n",
       "    <tr>\n",
       "      <th>59995</th>\n",
       "      <td>0.116538</td>\n",
       "      <td>6.250768</td>\n",
       "    </tr>\n",
       "    <tr>\n",
       "      <th>59996</th>\n",
       "      <td>-0.446454</td>\n",
       "      <td>-4.693596</td>\n",
       "    </tr>\n",
       "    <tr>\n",
       "      <th>59997</th>\n",
       "      <td>-1.930785</td>\n",
       "      <td>-37.458223</td>\n",
       "    </tr>\n",
       "    <tr>\n",
       "      <th>59998</th>\n",
       "      <td>0.907050</td>\n",
       "      <td>17.185006</td>\n",
       "    </tr>\n",
       "    <tr>\n",
       "      <th>59999</th>\n",
       "      <td>-0.950105</td>\n",
       "      <td>-13.887615</td>\n",
       "    </tr>\n",
       "  </tbody>\n",
       "</table>\n",
       "<p>60000 rows × 2 columns</p>\n",
       "</div>"
      ],
      "text/plain": [
       "          SPEED   DISTANCE\n",
       "0      0.055199   6.674415\n",
       "1      0.534817   9.254470\n",
       "2      1.082877  19.526685\n",
       "3      0.377976   8.526938\n",
       "4      0.991827  23.534163\n",
       "...         ...        ...\n",
       "59995  0.116538   6.250768\n",
       "59996 -0.446454  -4.693596\n",
       "59997 -1.930785 -37.458223\n",
       "59998  0.907050  17.185006\n",
       "59999 -0.950105 -13.887615\n",
       "\n",
       "[60000 rows x 2 columns]"
      ]
     },
     "execution_count": 283,
     "metadata": {},
     "output_type": "execute_result"
    }
   ],
   "source": [
    "#Trying to load dataframe\n",
    "df"
   ]
  },
  {
   "cell_type": "markdown",
   "id": "4173011d",
   "metadata": {},
   "source": [
    "**Data Cleaning**\n",
    "\n",
    "Here we are cleaning the data removing the rows with negative values"
   ]
  },
  {
   "cell_type": "code",
   "execution_count": 284,
   "id": "bb76e495",
   "metadata": {},
   "outputs": [],
   "source": [
    "#Trying to load dataframe\n",
    "df = df[df >= 0]\n",
    "df = df.dropna(axis=0)"
   ]
  },
  {
   "cell_type": "code",
   "execution_count": 285,
   "id": "2f286fde",
   "metadata": {},
   "outputs": [
    {
     "data": {
      "text/html": [
       "<div>\n",
       "<style scoped>\n",
       "    .dataframe tbody tr th:only-of-type {\n",
       "        vertical-align: middle;\n",
       "    }\n",
       "\n",
       "    .dataframe tbody tr th {\n",
       "        vertical-align: top;\n",
       "    }\n",
       "\n",
       "    .dataframe thead th {\n",
       "        text-align: right;\n",
       "    }\n",
       "</style>\n",
       "<table border=\"1\" class=\"dataframe\">\n",
       "  <thead>\n",
       "    <tr style=\"text-align: right;\">\n",
       "      <th></th>\n",
       "      <th>SPEED</th>\n",
       "      <th>DISTANCE</th>\n",
       "    </tr>\n",
       "  </thead>\n",
       "  <tbody>\n",
       "    <tr>\n",
       "      <th>0</th>\n",
       "      <td>0.055199</td>\n",
       "      <td>6.674415</td>\n",
       "    </tr>\n",
       "    <tr>\n",
       "      <th>1</th>\n",
       "      <td>0.534817</td>\n",
       "      <td>9.254470</td>\n",
       "    </tr>\n",
       "    <tr>\n",
       "      <th>2</th>\n",
       "      <td>1.082877</td>\n",
       "      <td>19.526685</td>\n",
       "    </tr>\n",
       "    <tr>\n",
       "      <th>3</th>\n",
       "      <td>0.377976</td>\n",
       "      <td>8.526938</td>\n",
       "    </tr>\n",
       "    <tr>\n",
       "      <th>4</th>\n",
       "      <td>0.991827</td>\n",
       "      <td>23.534163</td>\n",
       "    </tr>\n",
       "    <tr>\n",
       "      <th>...</th>\n",
       "      <td>...</td>\n",
       "      <td>...</td>\n",
       "    </tr>\n",
       "    <tr>\n",
       "      <th>59989</th>\n",
       "      <td>0.366236</td>\n",
       "      <td>16.737920</td>\n",
       "    </tr>\n",
       "    <tr>\n",
       "      <th>59990</th>\n",
       "      <td>0.549022</td>\n",
       "      <td>8.480064</td>\n",
       "    </tr>\n",
       "    <tr>\n",
       "      <th>59994</th>\n",
       "      <td>0.672727</td>\n",
       "      <td>13.872660</td>\n",
       "    </tr>\n",
       "    <tr>\n",
       "      <th>59995</th>\n",
       "      <td>0.116538</td>\n",
       "      <td>6.250768</td>\n",
       "    </tr>\n",
       "    <tr>\n",
       "      <th>59998</th>\n",
       "      <td>0.907050</td>\n",
       "      <td>17.185006</td>\n",
       "    </tr>\n",
       "  </tbody>\n",
       "</table>\n",
       "<p>27655 rows × 2 columns</p>\n",
       "</div>"
      ],
      "text/plain": [
       "          SPEED   DISTANCE\n",
       "0      0.055199   6.674415\n",
       "1      0.534817   9.254470\n",
       "2      1.082877  19.526685\n",
       "3      0.377976   8.526938\n",
       "4      0.991827  23.534163\n",
       "...         ...        ...\n",
       "59989  0.366236  16.737920\n",
       "59990  0.549022   8.480064\n",
       "59994  0.672727  13.872660\n",
       "59995  0.116538   6.250768\n",
       "59998  0.907050  17.185006\n",
       "\n",
       "[27655 rows x 2 columns]"
      ]
     },
     "execution_count": 285,
     "metadata": {},
     "output_type": "execute_result"
    }
   ],
   "source": [
    "#diaplaying\n",
    "df"
   ]
  },
  {
   "cell_type": "markdown",
   "id": "1f278ea4",
   "metadata": {},
   "source": [
    "**Deleting unwanted rows**\n",
    "\n",
    "Here we need only 20000 rows so 7000 rows should be removed"
   ]
  },
  {
   "cell_type": "code",
   "execution_count": 286,
   "id": "79078e34",
   "metadata": {},
   "outputs": [],
   "source": [
    "#Deleting rows\n",
    "df = df.drop(df.index[:7000])"
   ]
  },
  {
   "cell_type": "code",
   "execution_count": 287,
   "id": "23ebc6b9",
   "metadata": {},
   "outputs": [
    {
     "data": {
      "text/html": [
       "<div>\n",
       "<style scoped>\n",
       "    .dataframe tbody tr th:only-of-type {\n",
       "        vertical-align: middle;\n",
       "    }\n",
       "\n",
       "    .dataframe tbody tr th {\n",
       "        vertical-align: top;\n",
       "    }\n",
       "\n",
       "    .dataframe thead th {\n",
       "        text-align: right;\n",
       "    }\n",
       "</style>\n",
       "<table border=\"1\" class=\"dataframe\">\n",
       "  <thead>\n",
       "    <tr style=\"text-align: right;\">\n",
       "      <th></th>\n",
       "      <th>SPEED</th>\n",
       "      <th>DISTANCE</th>\n",
       "    </tr>\n",
       "  </thead>\n",
       "  <tbody>\n",
       "    <tr>\n",
       "      <th>15291</th>\n",
       "      <td>0.993801</td>\n",
       "      <td>21.057177</td>\n",
       "    </tr>\n",
       "    <tr>\n",
       "      <th>15292</th>\n",
       "      <td>2.750949</td>\n",
       "      <td>55.602939</td>\n",
       "    </tr>\n",
       "    <tr>\n",
       "      <th>15295</th>\n",
       "      <td>0.064474</td>\n",
       "      <td>4.730291</td>\n",
       "    </tr>\n",
       "    <tr>\n",
       "      <th>15298</th>\n",
       "      <td>1.440117</td>\n",
       "      <td>24.708719</td>\n",
       "    </tr>\n",
       "    <tr>\n",
       "      <th>15299</th>\n",
       "      <td>0.596695</td>\n",
       "      <td>6.526314</td>\n",
       "    </tr>\n",
       "    <tr>\n",
       "      <th>...</th>\n",
       "      <td>...</td>\n",
       "      <td>...</td>\n",
       "    </tr>\n",
       "    <tr>\n",
       "      <th>59989</th>\n",
       "      <td>0.366236</td>\n",
       "      <td>16.737920</td>\n",
       "    </tr>\n",
       "    <tr>\n",
       "      <th>59990</th>\n",
       "      <td>0.549022</td>\n",
       "      <td>8.480064</td>\n",
       "    </tr>\n",
       "    <tr>\n",
       "      <th>59994</th>\n",
       "      <td>0.672727</td>\n",
       "      <td>13.872660</td>\n",
       "    </tr>\n",
       "    <tr>\n",
       "      <th>59995</th>\n",
       "      <td>0.116538</td>\n",
       "      <td>6.250768</td>\n",
       "    </tr>\n",
       "    <tr>\n",
       "      <th>59998</th>\n",
       "      <td>0.907050</td>\n",
       "      <td>17.185006</td>\n",
       "    </tr>\n",
       "  </tbody>\n",
       "</table>\n",
       "<p>20655 rows × 2 columns</p>\n",
       "</div>"
      ],
      "text/plain": [
       "          SPEED   DISTANCE\n",
       "15291  0.993801  21.057177\n",
       "15292  2.750949  55.602939\n",
       "15295  0.064474   4.730291\n",
       "15298  1.440117  24.708719\n",
       "15299  0.596695   6.526314\n",
       "...         ...        ...\n",
       "59989  0.366236  16.737920\n",
       "59990  0.549022   8.480064\n",
       "59994  0.672727  13.872660\n",
       "59995  0.116538   6.250768\n",
       "59998  0.907050  17.185006\n",
       "\n",
       "[20655 rows x 2 columns]"
      ]
     },
     "execution_count": 287,
     "metadata": {},
     "output_type": "execute_result"
    }
   ],
   "source": [
    "#Dispalying\n",
    "df"
   ]
  },
  {
   "cell_type": "markdown",
   "id": "df143d8b",
   "metadata": {},
   "source": [
    "**Resetting Index Value**\n",
    "\n",
    "Here we are resetting the index value to series number"
   ]
  },
  {
   "cell_type": "code",
   "execution_count": 288,
   "id": "d3ce22a4",
   "metadata": {},
   "outputs": [],
   "source": [
    "#resetting index values\n",
    "df = df.reset_index(drop=True)"
   ]
  },
  {
   "cell_type": "code",
   "execution_count": 289,
   "id": "cfa6b81b",
   "metadata": {},
   "outputs": [
    {
     "data": {
      "text/html": [
       "<div>\n",
       "<style scoped>\n",
       "    .dataframe tbody tr th:only-of-type {\n",
       "        vertical-align: middle;\n",
       "    }\n",
       "\n",
       "    .dataframe tbody tr th {\n",
       "        vertical-align: top;\n",
       "    }\n",
       "\n",
       "    .dataframe thead th {\n",
       "        text-align: right;\n",
       "    }\n",
       "</style>\n",
       "<table border=\"1\" class=\"dataframe\">\n",
       "  <thead>\n",
       "    <tr style=\"text-align: right;\">\n",
       "      <th></th>\n",
       "      <th>SPEED</th>\n",
       "      <th>DISTANCE</th>\n",
       "    </tr>\n",
       "  </thead>\n",
       "  <tbody>\n",
       "    <tr>\n",
       "      <th>0</th>\n",
       "      <td>0.993801</td>\n",
       "      <td>21.057177</td>\n",
       "    </tr>\n",
       "    <tr>\n",
       "      <th>1</th>\n",
       "      <td>2.750949</td>\n",
       "      <td>55.602939</td>\n",
       "    </tr>\n",
       "    <tr>\n",
       "      <th>2</th>\n",
       "      <td>0.064474</td>\n",
       "      <td>4.730291</td>\n",
       "    </tr>\n",
       "    <tr>\n",
       "      <th>3</th>\n",
       "      <td>1.440117</td>\n",
       "      <td>24.708719</td>\n",
       "    </tr>\n",
       "    <tr>\n",
       "      <th>4</th>\n",
       "      <td>0.596695</td>\n",
       "      <td>6.526314</td>\n",
       "    </tr>\n",
       "    <tr>\n",
       "      <th>...</th>\n",
       "      <td>...</td>\n",
       "      <td>...</td>\n",
       "    </tr>\n",
       "    <tr>\n",
       "      <th>20650</th>\n",
       "      <td>0.366236</td>\n",
       "      <td>16.737920</td>\n",
       "    </tr>\n",
       "    <tr>\n",
       "      <th>20651</th>\n",
       "      <td>0.549022</td>\n",
       "      <td>8.480064</td>\n",
       "    </tr>\n",
       "    <tr>\n",
       "      <th>20652</th>\n",
       "      <td>0.672727</td>\n",
       "      <td>13.872660</td>\n",
       "    </tr>\n",
       "    <tr>\n",
       "      <th>20653</th>\n",
       "      <td>0.116538</td>\n",
       "      <td>6.250768</td>\n",
       "    </tr>\n",
       "    <tr>\n",
       "      <th>20654</th>\n",
       "      <td>0.907050</td>\n",
       "      <td>17.185006</td>\n",
       "    </tr>\n",
       "  </tbody>\n",
       "</table>\n",
       "<p>20655 rows × 2 columns</p>\n",
       "</div>"
      ],
      "text/plain": [
       "          SPEED   DISTANCE\n",
       "0      0.993801  21.057177\n",
       "1      2.750949  55.602939\n",
       "2      0.064474   4.730291\n",
       "3      1.440117  24.708719\n",
       "4      0.596695   6.526314\n",
       "...         ...        ...\n",
       "20650  0.366236  16.737920\n",
       "20651  0.549022   8.480064\n",
       "20652  0.672727  13.872660\n",
       "20653  0.116538   6.250768\n",
       "20654  0.907050  17.185006\n",
       "\n",
       "[20655 rows x 2 columns]"
      ]
     },
     "execution_count": 289,
     "metadata": {},
     "output_type": "execute_result"
    }
   ],
   "source": [
    "#displaying\n",
    "df"
   ]
  },
  {
   "cell_type": "markdown",
   "id": "545b8b53",
   "metadata": {},
   "source": [
    "**Scatterplot for Dataframe**\n",
    "\n",
    "Here we are getting scatterplot for the dataframe for speed and distance"
   ]
  },
  {
   "cell_type": "code",
   "execution_count": 290,
   "id": "513abecd",
   "metadata": {},
   "outputs": [
    {
     "data": {
      "image/png": "[encoded data removed]",
      "text/plain": [
       "<Figure size 432x288 with 1 Axes>"
      ]
     },
     "metadata": {
      "needs_background": "light"
     },
     "output_type": "display_data"
    }
   ],
   "source": [
    "#Scatterplot for Dataframe\n",
    "plt.scatter(df['SPEED'], df['DISTANCE'])\n",
    "plt.title(\"Speed vs Distance\") \n",
    "plt.xlabel('SPEED')\n",
    "plt.ylabel('DISTANCE')\n",
    "plt.show()"
   ]
  },
  {
   "cell_type": "markdown",
   "id": "785f61b3",
   "metadata": {},
   "source": [
    "**Splitting train and test dataset**\n",
    "\n",
    "Now we are splitting the dataset of specfic columns 'SPEED', 'DISTANCE'\n",
    "\n",
    "Now we are taking \n",
    "\n",
    "X = 'SPEED\n",
    "\n",
    "Y = 'DISTANCE'\n",
    "\n",
    "Now we are taking test as 20% and train 80% and random state as 42 which is optimal"
   ]
  },
  {
   "cell_type": "code",
   "execution_count": 291,
   "id": "3378b4ff",
   "metadata": {},
   "outputs": [],
   "source": [
    "#importing make_classifier in sklearn\n",
    "from sklearn.model_selection import train_test_split"
   ]
  },
  {
   "cell_type": "code",
   "execution_count": 224,
   "id": "0d42cb84",
   "metadata": {},
   "outputs": [],
   "source": [
    "# Spliting the data into (X) and labels (y)\n",
    "X = df[['SPEED']]\n",
    "Y = df['DISTANCE']"
   ]
  },
  {
   "cell_type": "code",
   "execution_count": 225,
   "id": "80470360",
   "metadata": {},
   "outputs": [],
   "source": [
    "# Spliting the data into training and testing \n",
    "X_train, X_test, Y_train, Y_test = train_test_split(X, Y, test_size=0.2, random_state=42)"
   ]
  },
  {
   "cell_type": "markdown",
   "id": "84502453",
   "metadata": {},
   "source": [
    "**Importing Linear Regresiion from sk learn**\n",
    "\n",
    "Here we are importing linear regression from sk learn"
   ]
  },
  {
   "cell_type": "code",
   "execution_count": 226,
   "id": "18c66c56",
   "metadata": {},
   "outputs": [],
   "source": [
    "#Importing Linear Regresiion from sk learn\n",
    "from sklearn.linear_model import LinearRegression "
   ]
  },
  {
   "cell_type": "markdown",
   "id": "2d3eab42",
   "metadata": {},
   "source": [
    "Defining linear regression function "
   ]
  },
  {
   "cell_type": "code",
   "execution_count": 227,
   "id": "25e2ca46",
   "metadata": {},
   "outputs": [],
   "source": [
    "#Defining linear regression function\n",
    "simple_re = LinearRegression()"
   ]
  },
  {
   "cell_type": "markdown",
   "id": "68a859fb",
   "metadata": {},
   "source": [
    "Applying linear regression to x and train data"
   ]
  },
  {
   "cell_type": "code",
   "execution_count": 228,
   "id": "a665683c",
   "metadata": {},
   "outputs": [
    {
     "data": {
      "text/html": [
       "<style>#sk-container-id-9 {color: black;background-color: white;}#sk-container-id-9 pre{padding: 0;}#sk-container-id-9 div.sk-toggleable {background-color: white;}#sk-container-id-9 label.sk-toggleable__label {cursor: pointer;display: block;width: 100%;margin-bottom: 0;padding: 0.3em;box-sizing: border-box;text-align: center;}#sk-container-id-9 label.sk-toggleable__label-arrow:before {content: \"▸\";float: left;margin-right: 0.25em;color: #696969;}#sk-container-id-9 label.sk-toggleable__label-arrow:hover:before {color: black;}#sk-container-id-9 div.sk-estimator:hover label.sk-toggleable__label-arrow:before {color: black;}#sk-container-id-9 div.sk-toggleable__content {max-height: 0;max-width: 0;overflow: hidden;text-align: left;background-color: #f0f8ff;}#sk-container-id-9 div.sk-toggleable__content pre {margin: 0.2em;color: black;border-radius: 0.25em;background-color: #f0f8ff;}#sk-container-id-9 input.sk-toggleable__control:checked~div.sk-toggleable__content {max-height: 200px;max-width: 100%;overflow: auto;}#sk-container-id-9 input.sk-toggleable__control:checked~label.sk-toggleable__label-arrow:before {content: \"▾\";}#sk-container-id-9 div.sk-estimator input.sk-toggleable__control:checked~label.sk-toggleable__label {background-color: #d4ebff;}#sk-container-id-9 div.sk-label input.sk-toggleable__control:checked~label.sk-toggleable__label {background-color: #d4ebff;}#sk-container-id-9 input.sk-hidden--visually {border: 0;clip: rect(1px 1px 1px 1px);clip: rect(1px, 1px, 1px, 1px);height: 1px;margin: -1px;overflow: hidden;padding: 0;position: absolute;width: 1px;}#sk-container-id-9 div.sk-estimator {font-family: monospace;background-color: #f0f8ff;border: 1px dotted black;border-radius: 0.25em;box-sizing: border-box;margin-bottom: 0.5em;}#sk-container-id-9 div.sk-estimator:hover {background-color: #d4ebff;}#sk-container-id-9 div.sk-parallel-item::after {content: \"\";width: 100%;border-bottom: 1px solid gray;flex-grow: 1;}#sk-container-id-9 div.sk-label:hover label.sk-toggleable__label {background-color: #d4ebff;}#sk-container-id-9 div.sk-serial::before {content: \"\";position: absolute;border-left: 1px solid gray;box-sizing: border-box;top: 0;bottom: 0;left: 50%;z-index: 0;}#sk-container-id-9 div.sk-serial {display: flex;flex-direction: column;align-items: center;background-color: white;padding-right: 0.2em;padding-left: 0.2em;position: relative;}#sk-container-id-9 div.sk-item {position: relative;z-index: 1;}#sk-container-id-9 div.sk-parallel {display: flex;align-items: stretch;justify-content: center;background-color: white;position: relative;}#sk-container-id-9 div.sk-item::before, #sk-container-id-9 div.sk-parallel-item::before {content: \"\";position: absolute;border-left: 1px solid gray;box-sizing: border-box;top: 0;bottom: 0;left: 50%;z-index: -1;}#sk-container-id-9 div.sk-parallel-item {display: flex;flex-direction: column;z-index: 1;position: relative;background-color: white;}#sk-container-id-9 div.sk-parallel-item:first-child::after {align-self: flex-end;width: 50%;}#sk-container-id-9 div.sk-parallel-item:last-child::after {align-self: flex-start;width: 50%;}#sk-container-id-9 div.sk-parallel-item:only-child::after {width: 0;}#sk-container-id-9 div.sk-dashed-wrapped {border: 1px dashed gray;margin: 0 0.4em 0.5em 0.4em;box-sizing: border-box;padding-bottom: 0.4em;background-color: white;}#sk-container-id-9 div.sk-label label {font-family: monospace;font-weight: bold;display: inline-block;line-height: 1.2em;}#sk-container-id-9 div.sk-label-container {text-align: center;}#sk-container-id-9 div.sk-container {/* jupyter's `normalize.less` sets `[hidden] { display: none; }` but bootstrap.min.css set `[hidden] { display: none !important; }` so we also need the `!important` here to be able to override the default hidden behavior on the sphinx rendered scikit-learn.org. See: https://github.com/scikit-learn/scikit-learn/issues/21755 */display: inline-block !important;position: relative;}#sk-container-id-9 div.sk-text-repr-fallback {display: none;}</style><div id=\"sk-container-id-9\" class=\"sk-top-container\"><div class=\"sk-text-repr-fallback\"><pre>LinearRegression()</pre><b>In a Jupyter environment, please rerun this cell to show the HTML representation or trust the notebook. <br />On GitHub, the HTML representation is unable to render, please try loading this page with nbviewer.org.</b></div><div class=\"sk-container\" hidden><div class=\"sk-item\"><div class=\"sk-estimator sk-toggleable\"><input class=\"sk-toggleable__control sk-hidden--visually\" id=\"sk-estimator-id-9\" type=\"checkbox\" checked><label for=\"sk-estimator-id-9\" class=\"sk-toggleable__label sk-toggleable__label-arrow\">LinearRegression</label><div class=\"sk-toggleable__content\"><pre>LinearRegression()</pre></div></div></div></div></div>"
      ],
      "text/plain": [
       "LinearRegression()"
      ]
     },
     "execution_count": 228,
     "metadata": {},
     "output_type": "execute_result"
    }
   ],
   "source": [
    "#Applying limnear regression\n",
    "simple_re.fit(X_train, Y_train) "
   ]
  },
  {
   "cell_type": "markdown",
   "id": "e8a116b6",
   "metadata": {},
   "source": [
    "Predicting x and y"
   ]
  },
  {
   "cell_type": "code",
   "execution_count": 229,
   "id": "48667764",
   "metadata": {},
   "outputs": [],
   "source": [
    "#prediction\n",
    "y_pred=simple_re.predict(X_test)  "
   ]
  },
  {
   "cell_type": "code",
   "execution_count": 230,
   "id": "99e6f359",
   "metadata": {},
   "outputs": [],
   "source": [
    "#prediction\n",
    "x_pred= simple_re.predict(X_train)"
   ]
  },
  {
   "cell_type": "markdown",
   "id": "bee339f1",
   "metadata": {},
   "source": [
    "**Visualization of data**\n",
    "\n",
    "Here weare visualizing the train and test data"
   ]
  },
  {
   "cell_type": "code",
   "execution_count": 231,
   "id": "0461d841",
   "metadata": {},
   "outputs": [
    {
     "data": {
      "image/png": "[encoded data removed]",
      "text/plain": [
       "<Figure size 432x288 with 1 Axes>"
      ]
     },
     "metadata": {
      "needs_background": "light"
     },
     "output_type": "display_data"
    }
   ],
   "source": [
    "#Visualization of data\n",
    "plt.scatter(X_train, Y_train, color=\"blue\")   \n",
    "plt.plot(X_train, x_pred, color=\"red\")    \n",
    "plt.title(\"Distance vs Speed\")  \n",
    "plt.xlabel(\"SPEED\")  \n",
    "plt.ylabel(\"DISTANCE\")  \n",
    "plt.show()"
   ]
  },
  {
   "cell_type": "code",
   "execution_count": 232,
   "id": "1c6653ab",
   "metadata": {
    "scrolled": true
   },
   "outputs": [
    {
     "data": {
      "image/png": "[encoded data removed]",
      "text/plain": [
       "<Figure size 432x288 with 1 Axes>"
      ]
     },
     "metadata": {
      "needs_background": "light"
     },
     "output_type": "display_data"
    }
   ],
   "source": [
    "#Visualization of data\n",
    "plt.scatter(X_test, Y_test, color=\"blue\")   \n",
    "plt.plot(X_train, x_pred, color=\"red\")    \n",
    "plt.title(\"Distance vs Speed\")  \n",
    "plt.xlabel(\"SPEED\")  \n",
    "plt.ylabel(\"DISTANCE\")  \n",
    "plt.show()"
   ]
  },
  {
   "cell_type": "markdown",
   "id": "021bdd22",
   "metadata": {},
   "source": [
    "Printing coefficients and intercepts of the line"
   ]
  },
  {
   "cell_type": "code",
   "execution_count": 233,
   "id": "56936232",
   "metadata": {
    "scrolled": true
   },
   "outputs": [
    {
     "name": "stdout",
     "output_type": "stream",
     "text": [
      "coefficient: [19.24049845]\n"
     ]
    }
   ],
   "source": [
    "#printing coefficient\n",
    "print(\"coefficient:\", simple_re.coef_)"
   ]
  },
  {
   "cell_type": "code",
   "execution_count": 234,
   "id": "72e47a58",
   "metadata": {},
   "outputs": [
    {
     "name": "stdout",
     "output_type": "stream",
     "text": [
      "intercept: 1.2741852343633475\n"
     ]
    }
   ],
   "source": [
    "#print intercept\n",
    "print(\"intercept:\", simple_re.intercept_)"
   ]
  },
  {
   "cell_type": "markdown",
   "id": "e8c5e1e5",
   "metadata": {},
   "source": [
    "# Task 1b"
   ]
  },
  {
   "cell_type": "markdown",
   "id": "dd580c18",
   "metadata": {},
   "source": [
    "**Importing the dataset**\n",
    "\n",
    "We are inporting the dataset and loading the dataset"
   ]
  },
  {
   "cell_type": "code",
   "execution_count": 235,
   "id": "f6027f05",
   "metadata": {},
   "outputs": [],
   "source": [
    "#Importing the dataset\n",
    "data = pd.read_csv(\"F:/SEM 6/ML LAB/ML LAB 3/Salary_Data.csv\")"
   ]
  },
  {
   "cell_type": "markdown",
   "id": "e5e5ace1",
   "metadata": {},
   "source": [
    "Now we are we seeing 1st 5 rows of the dataset"
   ]
  },
  {
   "cell_type": "code",
   "execution_count": 236,
   "id": "b3ad2cc5",
   "metadata": {},
   "outputs": [
    {
     "data": {
      "text/html": [
       "<div>\n",
       "<style scoped>\n",
       "    .dataframe tbody tr th:only-of-type {\n",
       "        vertical-align: middle;\n",
       "    }\n",
       "\n",
       "    .dataframe tbody tr th {\n",
       "        vertical-align: top;\n",
       "    }\n",
       "\n",
       "    .dataframe thead th {\n",
       "        text-align: right;\n",
       "    }\n",
       "</style>\n",
       "<table border=\"1\" class=\"dataframe\">\n",
       "  <thead>\n",
       "    <tr style=\"text-align: right;\">\n",
       "      <th></th>\n",
       "      <th>YearsExperience</th>\n",
       "      <th>Salary</th>\n",
       "    </tr>\n",
       "  </thead>\n",
       "  <tbody>\n",
       "    <tr>\n",
       "      <th>0</th>\n",
       "      <td>1.1</td>\n",
       "      <td>39343.0</td>\n",
       "    </tr>\n",
       "    <tr>\n",
       "      <th>1</th>\n",
       "      <td>1.3</td>\n",
       "      <td>46205.0</td>\n",
       "    </tr>\n",
       "    <tr>\n",
       "      <th>2</th>\n",
       "      <td>1.5</td>\n",
       "      <td>37731.0</td>\n",
       "    </tr>\n",
       "    <tr>\n",
       "      <th>3</th>\n",
       "      <td>2.0</td>\n",
       "      <td>43525.0</td>\n",
       "    </tr>\n",
       "    <tr>\n",
       "      <th>4</th>\n",
       "      <td>2.2</td>\n",
       "      <td>39891.0</td>\n",
       "    </tr>\n",
       "  </tbody>\n",
       "</table>\n",
       "</div>"
      ],
      "text/plain": [
       "   YearsExperience   Salary\n",
       "0              1.1  39343.0\n",
       "1              1.3  46205.0\n",
       "2              1.5  37731.0\n",
       "3              2.0  43525.0\n",
       "4              2.2  39891.0"
      ]
     },
     "execution_count": 236,
     "metadata": {},
     "output_type": "execute_result"
    }
   ],
   "source": [
    "#Displaying first 5 rows\n",
    "data.head()"
   ]
  },
  {
   "cell_type": "markdown",
   "id": "9e9ef5a5",
   "metadata": {},
   "source": [
    "**Visualization of the scatter of data**\n",
    "\n",
    "Here we can see some correlation"
   ]
  },
  {
   "cell_type": "code",
   "execution_count": 237,
   "id": "05a6e287",
   "metadata": {
    "scrolled": true
   },
   "outputs": [
    {
     "data": {
      "image/png": "[encoded data removed]",
      "text/plain": [
       "<Figure size 432x288 with 1 Axes>"
      ]
     },
     "metadata": {
      "needs_background": "light"
     },
     "output_type": "display_data"
    }
   ],
   "source": [
    "#Visualization of the scatter of data\n",
    "plt.scatter(data['YearsExperience'], data['Salary'])\n",
    "plt.show()"
   ]
  },
  {
   "cell_type": "markdown",
   "id": "b53920a2",
   "metadata": {},
   "source": [
    "**Splitting train and test dataset**\n",
    "\n",
    "Now we are splitting the dataset of specfic columns 'Years Experienced', 'Country'\n",
    "\n",
    "Now we are taking \n",
    "\n",
    "X = 'Years Experienced'\n",
    "\n",
    "Y = 'Country'"
   ]
  },
  {
   "cell_type": "code",
   "execution_count": 238,
   "id": "cb18fc34",
   "metadata": {},
   "outputs": [],
   "source": [
    "#splitiing the data\n",
    "xx = data[['YearsExperience']]\n",
    "yy = data['Salary']"
   ]
  },
  {
   "cell_type": "code",
   "execution_count": 239,
   "id": "6c160712",
   "metadata": {},
   "outputs": [],
   "source": [
    "# Spliting the data into training and testing \n",
    "X_train, X_test, Y_train, Y_test = train_test_split(xx, yy, test_size=0.2, random_state=42)"
   ]
  },
  {
   "cell_type": "markdown",
   "id": "ea1a759e",
   "metadata": {},
   "source": [
    "Defining linear regression function "
   ]
  },
  {
   "cell_type": "code",
   "execution_count": 294,
   "id": "73e8586e",
   "metadata": {},
   "outputs": [],
   "source": [
    "#Defining linear regression function\n",
    "simple_re = LinearRegression()"
   ]
  },
  {
   "cell_type": "markdown",
   "id": "caaa2e30",
   "metadata": {},
   "source": [
    "Applying linear regression to x and train data"
   ]
  },
  {
   "cell_type": "code",
   "execution_count": 242,
   "id": "04647120",
   "metadata": {},
   "outputs": [
    {
     "data": {
      "text/html": [
       "<style>#sk-container-id-10 {color: black;background-color: white;}#sk-container-id-10 pre{padding: 0;}#sk-container-id-10 div.sk-toggleable {background-color: white;}#sk-container-id-10 label.sk-toggleable__label {cursor: pointer;display: block;width: 100%;margin-bottom: 0;padding: 0.3em;box-sizing: border-box;text-align: center;}#sk-container-id-10 label.sk-toggleable__label-arrow:before {content: \"▸\";float: left;margin-right: 0.25em;color: #696969;}#sk-container-id-10 label.sk-toggleable__label-arrow:hover:before {color: black;}#sk-container-id-10 div.sk-estimator:hover label.sk-toggleable__label-arrow:before {color: black;}#sk-container-id-10 div.sk-toggleable__content {max-height: 0;max-width: 0;overflow: hidden;text-align: left;background-color: #f0f8ff;}#sk-container-id-10 div.sk-toggleable__content pre {margin: 0.2em;color: black;border-radius: 0.25em;background-color: #f0f8ff;}#sk-container-id-10 input.sk-toggleable__control:checked~div.sk-toggleable__content {max-height: 200px;max-width: 100%;overflow: auto;}#sk-container-id-10 input.sk-toggleable__control:checked~label.sk-toggleable__label-arrow:before {content: \"▾\";}#sk-container-id-10 div.sk-estimator input.sk-toggleable__control:checked~label.sk-toggleable__label {background-color: #d4ebff;}#sk-container-id-10 div.sk-label input.sk-toggleable__control:checked~label.sk-toggleable__label {background-color: #d4ebff;}#sk-container-id-10 input.sk-hidden--visually {border: 0;clip: rect(1px 1px 1px 1px);clip: rect(1px, 1px, 1px, 1px);height: 1px;margin: -1px;overflow: hidden;padding: 0;position: absolute;width: 1px;}#sk-container-id-10 div.sk-estimator {font-family: monospace;background-color: #f0f8ff;border: 1px dotted black;border-radius: 0.25em;box-sizing: border-box;margin-bottom: 0.5em;}#sk-container-id-10 div.sk-estimator:hover {background-color: #d4ebff;}#sk-container-id-10 div.sk-parallel-item::after {content: \"\";width: 100%;border-bottom: 1px solid gray;flex-grow: 1;}#sk-container-id-10 div.sk-label:hover label.sk-toggleable__label {background-color: #d4ebff;}#sk-container-id-10 div.sk-serial::before {content: \"\";position: absolute;border-left: 1px solid gray;box-sizing: border-box;top: 0;bottom: 0;left: 50%;z-index: 0;}#sk-container-id-10 div.sk-serial {display: flex;flex-direction: column;align-items: center;background-color: white;padding-right: 0.2em;padding-left: 0.2em;position: relative;}#sk-container-id-10 div.sk-item {position: relative;z-index: 1;}#sk-container-id-10 div.sk-parallel {display: flex;align-items: stretch;justify-content: center;background-color: white;position: relative;}#sk-container-id-10 div.sk-item::before, #sk-container-id-10 div.sk-parallel-item::before {content: \"\";position: absolute;border-left: 1px solid gray;box-sizing: border-box;top: 0;bottom: 0;left: 50%;z-index: -1;}#sk-container-id-10 div.sk-parallel-item {display: flex;flex-direction: column;z-index: 1;position: relative;background-color: white;}#sk-container-id-10 div.sk-parallel-item:first-child::after {align-self: flex-end;width: 50%;}#sk-container-id-10 div.sk-parallel-item:last-child::after {align-self: flex-start;width: 50%;}#sk-container-id-10 div.sk-parallel-item:only-child::after {width: 0;}#sk-container-id-10 div.sk-dashed-wrapped {border: 1px dashed gray;margin: 0 0.4em 0.5em 0.4em;box-sizing: border-box;padding-bottom: 0.4em;background-color: white;}#sk-container-id-10 div.sk-label label {font-family: monospace;font-weight: bold;display: inline-block;line-height: 1.2em;}#sk-container-id-10 div.sk-label-container {text-align: center;}#sk-container-id-10 div.sk-container {/* jupyter's `normalize.less` sets `[hidden] { display: none; }` but bootstrap.min.css set `[hidden] { display: none !important; }` so we also need the `!important` here to be able to override the default hidden behavior on the sphinx rendered scikit-learn.org. See: https://github.com/scikit-learn/scikit-learn/issues/21755 */display: inline-block !important;position: relative;}#sk-container-id-10 div.sk-text-repr-fallback {display: none;}</style><div id=\"sk-container-id-10\" class=\"sk-top-container\"><div class=\"sk-text-repr-fallback\"><pre>LinearRegression()</pre><b>In a Jupyter environment, please rerun this cell to show the HTML representation or trust the notebook. <br />On GitHub, the HTML representation is unable to render, please try loading this page with nbviewer.org.</b></div><div class=\"sk-container\" hidden><div class=\"sk-item\"><div class=\"sk-estimator sk-toggleable\"><input class=\"sk-toggleable__control sk-hidden--visually\" id=\"sk-estimator-id-10\" type=\"checkbox\" checked><label for=\"sk-estimator-id-10\" class=\"sk-toggleable__label sk-toggleable__label-arrow\">LinearRegression</label><div class=\"sk-toggleable__content\"><pre>LinearRegression()</pre></div></div></div></div></div>"
      ],
      "text/plain": [
       "LinearRegression()"
      ]
     },
     "execution_count": 242,
     "metadata": {},
     "output_type": "execute_result"
    }
   ],
   "source": [
    "#Applying limnear regression\n",
    "simple_re.fit(X_train, Y_train) "
   ]
  },
  {
   "cell_type": "markdown",
   "id": "46e6a33d",
   "metadata": {},
   "source": [
    "Predicting x and y"
   ]
  },
  {
   "cell_type": "code",
   "execution_count": 243,
   "id": "74a96c91",
   "metadata": {},
   "outputs": [],
   "source": [
    "#prediction\n",
    "y_pred=simple_re.predict(X_test)"
   ]
  },
  {
   "cell_type": "code",
   "execution_count": 244,
   "id": "d9f0441b",
   "metadata": {},
   "outputs": [],
   "source": [
    "#prediction\n",
    "x_pred= simple_re.predict(X_train)"
   ]
  },
  {
   "cell_type": "markdown",
   "id": "f2612725",
   "metadata": {},
   "source": [
    "**Visualization of data**\n",
    "\n",
    "Here weare visualizing the train and test data"
   ]
  },
  {
   "cell_type": "code",
   "execution_count": 245,
   "id": "496b01f9",
   "metadata": {},
   "outputs": [
    {
     "data": {
      "image/png": "[encoded data removed]",
      "text/plain": [
       "<Figure size 432x288 with 1 Axes>"
      ]
     },
     "metadata": {
      "needs_background": "light"
     },
     "output_type": "display_data"
    }
   ],
   "source": [
    "#Visualization of data\n",
    "plt.scatter(X_train, Y_train, color=\"blue\")   \n",
    "plt.plot(X_train, x_pred, color=\"red\")    \n",
    "plt.title(\"Salary vs Experience\")  \n",
    "plt.xlabel(\"Years of Experience\")  \n",
    "plt.ylabel(\"Salary(In Rupees)\")  \n",
    "plt.show()   "
   ]
  },
  {
   "cell_type": "code",
   "execution_count": 246,
   "id": "58715f11",
   "metadata": {},
   "outputs": [
    {
     "data": {
      "image/png": "[encoded data removed]",
      "text/plain": [
       "<Figure size 432x288 with 1 Axes>"
      ]
     },
     "metadata": {
      "needs_background": "light"
     },
     "output_type": "display_data"
    }
   ],
   "source": [
    "#Visualization of data\n",
    "plt.scatter(X_test, Y_test, color=\"blue\")   \n",
    "plt.plot(X_train, x_pred, color=\"red\")    \n",
    "plt.title(\"Salary vs Experience\")  \n",
    "plt.xlabel(\"Years of Experience\")  \n",
    "plt.ylabel(\"Salary(In Rupees)\")  \n",
    "plt.show()  "
   ]
  },
  {
   "cell_type": "code",
   "execution_count": 247,
   "id": "c88561f4",
   "metadata": {},
   "outputs": [
    {
     "name": "stdout",
     "output_type": "stream",
     "text": [
      "coefficient: [9423.81532303]\n"
     ]
    }
   ],
   "source": [
    "#print intercept\n",
    "print(\"coefficient:\", simple_re.coef_)"
   ]
  },
  {
   "cell_type": "code",
   "execution_count": 248,
   "id": "40322a50",
   "metadata": {},
   "outputs": [
    {
     "name": "stdout",
     "output_type": "stream",
     "text": [
      "intercept: 25321.583011776813\n"
     ]
    }
   ],
   "source": [
    "#print intercept\n",
    "print(\"intercept:\", simple_re.intercept_)"
   ]
  },
  {
   "cell_type": "markdown",
   "id": "68cd7c6d",
   "metadata": {},
   "source": [
    "# Task 1c"
   ]
  },
  {
   "cell_type": "code",
   "execution_count": 295,
   "id": "1955981b",
   "metadata": {},
   "outputs": [],
   "source": [
    "elec = pd.read_excel(\"F:/SEM 6/ML LAB/ML LAB 3/electricity.xlsx\")"
   ]
  },
  {
   "cell_type": "code",
   "execution_count": 296,
   "id": "f16598b5",
   "metadata": {},
   "outputs": [
    {
     "data": {
      "text/html": [
       "<div>\n",
       "<style scoped>\n",
       "    .dataframe tbody tr th:only-of-type {\n",
       "        vertical-align: middle;\n",
       "    }\n",
       "\n",
       "    .dataframe tbody tr th {\n",
       "        vertical-align: top;\n",
       "    }\n",
       "\n",
       "    .dataframe thead th {\n",
       "        text-align: right;\n",
       "    }\n",
       "</style>\n",
       "<table border=\"1\" class=\"dataframe\">\n",
       "  <thead>\n",
       "    <tr style=\"text-align: right;\">\n",
       "      <th></th>\n",
       "      <th>Hours</th>\n",
       "      <th>Watt</th>\n",
       "    </tr>\n",
       "  </thead>\n",
       "  <tbody>\n",
       "    <tr>\n",
       "      <th>0</th>\n",
       "      <td>7</td>\n",
       "      <td>1000</td>\n",
       "    </tr>\n",
       "    <tr>\n",
       "      <th>1</th>\n",
       "      <td>4</td>\n",
       "      <td>700</td>\n",
       "    </tr>\n",
       "    <tr>\n",
       "      <th>2</th>\n",
       "      <td>2</td>\n",
       "      <td>400</td>\n",
       "    </tr>\n",
       "    <tr>\n",
       "      <th>3</th>\n",
       "      <td>6</td>\n",
       "      <td>500</td>\n",
       "    </tr>\n",
       "    <tr>\n",
       "      <th>4</th>\n",
       "      <td>3</td>\n",
       "      <td>600</td>\n",
       "    </tr>\n",
       "    <tr>\n",
       "      <th>5</th>\n",
       "      <td>1</td>\n",
       "      <td>200</td>\n",
       "    </tr>\n",
       "    <tr>\n",
       "      <th>6</th>\n",
       "      <td>2</td>\n",
       "      <td>300</td>\n",
       "    </tr>\n",
       "    <tr>\n",
       "      <th>7</th>\n",
       "      <td>4</td>\n",
       "      <td>600</td>\n",
       "    </tr>\n",
       "    <tr>\n",
       "      <th>8</th>\n",
       "      <td>6</td>\n",
       "      <td>1100</td>\n",
       "    </tr>\n",
       "    <tr>\n",
       "      <th>9</th>\n",
       "      <td>4</td>\n",
       "      <td>600</td>\n",
       "    </tr>\n",
       "  </tbody>\n",
       "</table>\n",
       "</div>"
      ],
      "text/plain": [
       "   Hours  Watt\n",
       "0      7  1000\n",
       "1      4   700\n",
       "2      2   400\n",
       "3      6   500\n",
       "4      3   600\n",
       "5      1   200\n",
       "6      2   300\n",
       "7      4   600\n",
       "8      6  1100\n",
       "9      4   600"
      ]
     },
     "execution_count": 296,
     "metadata": {},
     "output_type": "execute_result"
    }
   ],
   "source": [
    "elec"
   ]
  },
  {
   "cell_type": "code",
   "execution_count": 305,
   "id": "d4daf607",
   "metadata": {},
   "outputs": [],
   "source": [
    "#splitiing the data\n",
    "el = elec[['Hours']]\n",
    "wa = elec['Watt']"
   ]
  },
  {
   "cell_type": "code",
   "execution_count": 306,
   "id": "0537e64f",
   "metadata": {},
   "outputs": [],
   "source": [
    "# Spliting the data into training and testing \n",
    "X_train, X_test, Y_train, Y_test = train_test_split(el, wa, test_size=0.2, random_state=42)"
   ]
  },
  {
   "cell_type": "markdown",
   "id": "11fcef54",
   "metadata": {},
   "source": [
    "Defining linear regression function "
   ]
  },
  {
   "cell_type": "code",
   "execution_count": 307,
   "id": "e0455f72",
   "metadata": {},
   "outputs": [],
   "source": [
    "#Defining linear regression function\n",
    "simple_re = LinearRegression()"
   ]
  },
  {
   "cell_type": "markdown",
   "id": "7edac2b8",
   "metadata": {},
   "source": [
    "Applying linear regression to x and train data"
   ]
  },
  {
   "cell_type": "code",
   "execution_count": 308,
   "id": "ad1e5c5e",
   "metadata": {},
   "outputs": [
    {
     "data": {
      "text/html": [
       "<style>#sk-container-id-15 {color: black;background-color: white;}#sk-container-id-15 pre{padding: 0;}#sk-container-id-15 div.sk-toggleable {background-color: white;}#sk-container-id-15 label.sk-toggleable__label {cursor: pointer;display: block;width: 100%;margin-bottom: 0;padding: 0.3em;box-sizing: border-box;text-align: center;}#sk-container-id-15 label.sk-toggleable__label-arrow:before {content: \"▸\";float: left;margin-right: 0.25em;color: #696969;}#sk-container-id-15 label.sk-toggleable__label-arrow:hover:before {color: black;}#sk-container-id-15 div.sk-estimator:hover label.sk-toggleable__label-arrow:before {color: black;}#sk-container-id-15 div.sk-toggleable__content {max-height: 0;max-width: 0;overflow: hidden;text-align: left;background-color: #f0f8ff;}#sk-container-id-15 div.sk-toggleable__content pre {margin: 0.2em;color: black;border-radius: 0.25em;background-color: #f0f8ff;}#sk-container-id-15 input.sk-toggleable__control:checked~div.sk-toggleable__content {max-height: 200px;max-width: 100%;overflow: auto;}#sk-container-id-15 input.sk-toggleable__control:checked~label.sk-toggleable__label-arrow:before {content: \"▾\";}#sk-container-id-15 div.sk-estimator input.sk-toggleable__control:checked~label.sk-toggleable__label {background-color: #d4ebff;}#sk-container-id-15 div.sk-label input.sk-toggleable__control:checked~label.sk-toggleable__label {background-color: #d4ebff;}#sk-container-id-15 input.sk-hidden--visually {border: 0;clip: rect(1px 1px 1px 1px);clip: rect(1px, 1px, 1px, 1px);height: 1px;margin: -1px;overflow: hidden;padding: 0;position: absolute;width: 1px;}#sk-container-id-15 div.sk-estimator {font-family: monospace;background-color: #f0f8ff;border: 1px dotted black;border-radius: 0.25em;box-sizing: border-box;margin-bottom: 0.5em;}#sk-container-id-15 div.sk-estimator:hover {background-color: #d4ebff;}#sk-container-id-15 div.sk-parallel-item::after {content: \"\";width: 100%;border-bottom: 1px solid gray;flex-grow: 1;}#sk-container-id-15 div.sk-label:hover label.sk-toggleable__label {background-color: #d4ebff;}#sk-container-id-15 div.sk-serial::before {content: \"\";position: absolute;border-left: 1px solid gray;box-sizing: border-box;top: 0;bottom: 0;left: 50%;z-index: 0;}#sk-container-id-15 div.sk-serial {display: flex;flex-direction: column;align-items: center;background-color: white;padding-right: 0.2em;padding-left: 0.2em;position: relative;}#sk-container-id-15 div.sk-item {position: relative;z-index: 1;}#sk-container-id-15 div.sk-parallel {display: flex;align-items: stretch;justify-content: center;background-color: white;position: relative;}#sk-container-id-15 div.sk-item::before, #sk-container-id-15 div.sk-parallel-item::before {content: \"\";position: absolute;border-left: 1px solid gray;box-sizing: border-box;top: 0;bottom: 0;left: 50%;z-index: -1;}#sk-container-id-15 div.sk-parallel-item {display: flex;flex-direction: column;z-index: 1;position: relative;background-color: white;}#sk-container-id-15 div.sk-parallel-item:first-child::after {align-self: flex-end;width: 50%;}#sk-container-id-15 div.sk-parallel-item:last-child::after {align-self: flex-start;width: 50%;}#sk-container-id-15 div.sk-parallel-item:only-child::after {width: 0;}#sk-container-id-15 div.sk-dashed-wrapped {border: 1px dashed gray;margin: 0 0.4em 0.5em 0.4em;box-sizing: border-box;padding-bottom: 0.4em;background-color: white;}#sk-container-id-15 div.sk-label label {font-family: monospace;font-weight: bold;display: inline-block;line-height: 1.2em;}#sk-container-id-15 div.sk-label-container {text-align: center;}#sk-container-id-15 div.sk-container {/* jupyter's `normalize.less` sets `[hidden] { display: none; }` but bootstrap.min.css set `[hidden] { display: none !important; }` so we also need the `!important` here to be able to override the default hidden behavior on the sphinx rendered scikit-learn.org. See: https://github.com/scikit-learn/scikit-learn/issues/21755 */display: inline-block !important;position: relative;}#sk-container-id-15 div.sk-text-repr-fallback {display: none;}</style><div id=\"sk-container-id-15\" class=\"sk-top-container\"><div class=\"sk-text-repr-fallback\"><pre>LinearRegression()</pre><b>In a Jupyter environment, please rerun this cell to show the HTML representation or trust the notebook. <br />On GitHub, the HTML representation is unable to render, please try loading this page with nbviewer.org.</b></div><div class=\"sk-container\" hidden><div class=\"sk-item\"><div class=\"sk-estimator sk-toggleable\"><input class=\"sk-toggleable__control sk-hidden--visually\" id=\"sk-estimator-id-15\" type=\"checkbox\" checked><label for=\"sk-estimator-id-15\" class=\"sk-toggleable__label sk-toggleable__label-arrow\">LinearRegression</label><div class=\"sk-toggleable__content\"><pre>LinearRegression()</pre></div></div></div></div></div>"
      ],
      "text/plain": [
       "LinearRegression()"
      ]
     },
     "execution_count": 308,
     "metadata": {},
     "output_type": "execute_result"
    }
   ],
   "source": [
    "#Applying limnear regression\n",
    "simple_re.fit(X_train, Y_train) "
   ]
  },
  {
   "cell_type": "markdown",
   "id": "68bbc031",
   "metadata": {},
   "source": [
    "Predicting x and y"
   ]
  },
  {
   "cell_type": "code",
   "execution_count": 309,
   "id": "98341696",
   "metadata": {},
   "outputs": [],
   "source": [
    "#prediction\n",
    "y_pred=simple_re.predict(X_test)"
   ]
  },
  {
   "cell_type": "code",
   "execution_count": 310,
   "id": "128778a2",
   "metadata": {},
   "outputs": [],
   "source": [
    "#prediction\n",
    "x_pred= simple_re.predict(X_train)"
   ]
  },
  {
   "cell_type": "markdown",
   "id": "77d6bce6",
   "metadata": {},
   "source": [
    "Printing coefficients"
   ]
  },
  {
   "cell_type": "code",
   "execution_count": 311,
   "id": "3f188230",
   "metadata": {},
   "outputs": [
    {
     "name": "stdout",
     "output_type": "stream",
     "text": [
      "coefficient: [99.58158996]\n"
     ]
    }
   ],
   "source": [
    "#print intercept\n",
    "print(\"coefficient:\", simple_re.coef_)"
   ]
  },
  {
   "cell_type": "code",
   "execution_count": 312,
   "id": "d8aae02a",
   "metadata": {},
   "outputs": [
    {
     "name": "stdout",
     "output_type": "stream",
     "text": [
      "intercept: 164.0167364016736\n"
     ]
    }
   ],
   "source": [
    "#print intercept\n",
    "print(\"intercept:\", simple_re.intercept_)"
   ]
  },
  {
   "cell_type": "code",
   "execution_count": 313,
   "id": "696ec4d1",
   "metadata": {},
   "outputs": [
    {
     "data": {
      "text/plain": [
       "[<matplotlib.lines.Line2D at 0x1bea6296820>]"
      ]
     },
     "execution_count": 313,
     "metadata": {},
     "output_type": "execute_result"
    },
    {
     "data": {
      "image/png": "[encoded data removed]",
      "text/plain": [
       "<Figure size 432x288 with 1 Axes>"
      ]
     },
     "metadata": {
      "needs_background": "light"
     },
     "output_type": "display_data"
    }
   ],
   "source": [
    "#Visualization of data\n",
    "plt.scatter(X_train, Y_train, color=\"blue\")   \n",
    "plt.plot(X_train, x_pred, color=\"red\")"
   ]
  },
  {
   "cell_type": "code",
   "execution_count": 314,
   "id": "52961f2a",
   "metadata": {
    "scrolled": true
   },
   "outputs": [
    {
     "data": {
      "text/plain": [
       "[<matplotlib.lines.Line2D at 0x1bea628c8b0>]"
      ]
     },
     "execution_count": 314,
     "metadata": {},
     "output_type": "execute_result"
    },
    {
     "data": {
      "image/png": "[encoded data removed]",
      "text/plain": [
       "<Figure size 432x288 with 1 Axes>"
      ]
     },
     "metadata": {
      "needs_background": "light"
     },
     "output_type": "display_data"
    }
   ],
   "source": [
    "#Visualization of data\n",
    "plt.scatter(X_test, Y_test, color=\"blue\")   \n",
    "plt.plot(X_train, x_pred, color=\"red\")"
   ]
  },
  {
   "cell_type": "markdown",
   "id": "a2f2cf6e",
   "metadata": {},
   "source": [
    "# TASK 2"
   ]
  },
  {
   "cell_type": "markdown",
   "id": "6d5eec31",
   "metadata": {},
   "source": [
    "**Importing the dataset**\n",
    "\n",
    "We are inporting the dataset and loading the dataset"
   ]
  },
  {
   "cell_type": "code",
   "execution_count": 260,
   "id": "405d5f94",
   "metadata": {},
   "outputs": [],
   "source": [
    "#importing\n",
    "brain = pd.read_csv(\"F:/SEM 6/ML LAB/ML LAB 3/Brain stroke dataset.csv\")"
   ]
  },
  {
   "cell_type": "code",
   "execution_count": 261,
   "id": "98090ffa",
   "metadata": {},
   "outputs": [
    {
     "data": {
      "text/html": [
       "<div>\n",
       "<style scoped>\n",
       "    .dataframe tbody tr th:only-of-type {\n",
       "        vertical-align: middle;\n",
       "    }\n",
       "\n",
       "    .dataframe tbody tr th {\n",
       "        vertical-align: top;\n",
       "    }\n",
       "\n",
       "    .dataframe thead th {\n",
       "        text-align: right;\n",
       "    }\n",
       "</style>\n",
       "<table border=\"1\" class=\"dataframe\">\n",
       "  <thead>\n",
       "    <tr style=\"text-align: right;\">\n",
       "      <th></th>\n",
       "      <th>gender</th>\n",
       "      <th>age</th>\n",
       "      <th>hypertension</th>\n",
       "      <th>heart_disease</th>\n",
       "      <th>ever_married</th>\n",
       "      <th>work_type</th>\n",
       "      <th>Residence_type</th>\n",
       "      <th>avg_glucose_level</th>\n",
       "      <th>bmi</th>\n",
       "      <th>smoking_status</th>\n",
       "      <th>stroke</th>\n",
       "    </tr>\n",
       "  </thead>\n",
       "  <tbody>\n",
       "    <tr>\n",
       "      <th>0</th>\n",
       "      <td>Male</td>\n",
       "      <td>67.0</td>\n",
       "      <td>0</td>\n",
       "      <td>1</td>\n",
       "      <td>Yes</td>\n",
       "      <td>Private</td>\n",
       "      <td>Urban</td>\n",
       "      <td>228.69</td>\n",
       "      <td>36.6</td>\n",
       "      <td>formerly smoked</td>\n",
       "      <td>1</td>\n",
       "    </tr>\n",
       "    <tr>\n",
       "      <th>1</th>\n",
       "      <td>Male</td>\n",
       "      <td>80.0</td>\n",
       "      <td>0</td>\n",
       "      <td>1</td>\n",
       "      <td>Yes</td>\n",
       "      <td>Private</td>\n",
       "      <td>Rural</td>\n",
       "      <td>105.92</td>\n",
       "      <td>32.5</td>\n",
       "      <td>never smoked</td>\n",
       "      <td>1</td>\n",
       "    </tr>\n",
       "    <tr>\n",
       "      <th>2</th>\n",
       "      <td>Female</td>\n",
       "      <td>49.0</td>\n",
       "      <td>0</td>\n",
       "      <td>0</td>\n",
       "      <td>Yes</td>\n",
       "      <td>Private</td>\n",
       "      <td>Urban</td>\n",
       "      <td>171.23</td>\n",
       "      <td>34.4</td>\n",
       "      <td>smokes</td>\n",
       "      <td>1</td>\n",
       "    </tr>\n",
       "    <tr>\n",
       "      <th>3</th>\n",
       "      <td>Female</td>\n",
       "      <td>79.0</td>\n",
       "      <td>1</td>\n",
       "      <td>0</td>\n",
       "      <td>Yes</td>\n",
       "      <td>Self-employed</td>\n",
       "      <td>Rural</td>\n",
       "      <td>174.12</td>\n",
       "      <td>24.0</td>\n",
       "      <td>never smoked</td>\n",
       "      <td>1</td>\n",
       "    </tr>\n",
       "    <tr>\n",
       "      <th>4</th>\n",
       "      <td>Male</td>\n",
       "      <td>81.0</td>\n",
       "      <td>0</td>\n",
       "      <td>0</td>\n",
       "      <td>Yes</td>\n",
       "      <td>Private</td>\n",
       "      <td>Urban</td>\n",
       "      <td>186.21</td>\n",
       "      <td>29.0</td>\n",
       "      <td>formerly smoked</td>\n",
       "      <td>1</td>\n",
       "    </tr>\n",
       "    <tr>\n",
       "      <th>...</th>\n",
       "      <td>...</td>\n",
       "      <td>...</td>\n",
       "      <td>...</td>\n",
       "      <td>...</td>\n",
       "      <td>...</td>\n",
       "      <td>...</td>\n",
       "      <td>...</td>\n",
       "      <td>...</td>\n",
       "      <td>...</td>\n",
       "      <td>...</td>\n",
       "      <td>...</td>\n",
       "    </tr>\n",
       "    <tr>\n",
       "      <th>4976</th>\n",
       "      <td>Male</td>\n",
       "      <td>41.0</td>\n",
       "      <td>0</td>\n",
       "      <td>0</td>\n",
       "      <td>No</td>\n",
       "      <td>Private</td>\n",
       "      <td>Rural</td>\n",
       "      <td>70.15</td>\n",
       "      <td>29.8</td>\n",
       "      <td>formerly smoked</td>\n",
       "      <td>0</td>\n",
       "    </tr>\n",
       "    <tr>\n",
       "      <th>4977</th>\n",
       "      <td>Male</td>\n",
       "      <td>40.0</td>\n",
       "      <td>0</td>\n",
       "      <td>0</td>\n",
       "      <td>Yes</td>\n",
       "      <td>Private</td>\n",
       "      <td>Urban</td>\n",
       "      <td>191.15</td>\n",
       "      <td>31.1</td>\n",
       "      <td>smokes</td>\n",
       "      <td>0</td>\n",
       "    </tr>\n",
       "    <tr>\n",
       "      <th>4978</th>\n",
       "      <td>Female</td>\n",
       "      <td>45.0</td>\n",
       "      <td>1</td>\n",
       "      <td>0</td>\n",
       "      <td>Yes</td>\n",
       "      <td>Govt_job</td>\n",
       "      <td>Rural</td>\n",
       "      <td>95.02</td>\n",
       "      <td>31.8</td>\n",
       "      <td>smokes</td>\n",
       "      <td>0</td>\n",
       "    </tr>\n",
       "    <tr>\n",
       "      <th>4979</th>\n",
       "      <td>Male</td>\n",
       "      <td>40.0</td>\n",
       "      <td>0</td>\n",
       "      <td>0</td>\n",
       "      <td>Yes</td>\n",
       "      <td>Private</td>\n",
       "      <td>Rural</td>\n",
       "      <td>83.94</td>\n",
       "      <td>30.0</td>\n",
       "      <td>smokes</td>\n",
       "      <td>0</td>\n",
       "    </tr>\n",
       "    <tr>\n",
       "      <th>4980</th>\n",
       "      <td>Female</td>\n",
       "      <td>80.0</td>\n",
       "      <td>1</td>\n",
       "      <td>0</td>\n",
       "      <td>Yes</td>\n",
       "      <td>Private</td>\n",
       "      <td>Urban</td>\n",
       "      <td>83.75</td>\n",
       "      <td>29.1</td>\n",
       "      <td>never smoked</td>\n",
       "      <td>0</td>\n",
       "    </tr>\n",
       "  </tbody>\n",
       "</table>\n",
       "<p>4981 rows × 11 columns</p>\n",
       "</div>"
      ],
      "text/plain": [
       "      gender   age  hypertension  heart_disease ever_married      work_type  \\\n",
       "0       Male  67.0             0              1          Yes        Private   \n",
       "1       Male  80.0             0              1          Yes        Private   \n",
       "2     Female  49.0             0              0          Yes        Private   \n",
       "3     Female  79.0             1              0          Yes  Self-employed   \n",
       "4       Male  81.0             0              0          Yes        Private   \n",
       "...      ...   ...           ...            ...          ...            ...   \n",
       "4976    Male  41.0             0              0           No        Private   \n",
       "4977    Male  40.0             0              0          Yes        Private   \n",
       "4978  Female  45.0             1              0          Yes       Govt_job   \n",
       "4979    Male  40.0             0              0          Yes        Private   \n",
       "4980  Female  80.0             1              0          Yes        Private   \n",
       "\n",
       "     Residence_type  avg_glucose_level   bmi   smoking_status  stroke  \n",
       "0             Urban             228.69  36.6  formerly smoked       1  \n",
       "1             Rural             105.92  32.5     never smoked       1  \n",
       "2             Urban             171.23  34.4           smokes       1  \n",
       "3             Rural             174.12  24.0     never smoked       1  \n",
       "4             Urban             186.21  29.0  formerly smoked       1  \n",
       "...             ...                ...   ...              ...     ...  \n",
       "4976          Rural              70.15  29.8  formerly smoked       0  \n",
       "4977          Urban             191.15  31.1           smokes       0  \n",
       "4978          Rural              95.02  31.8           smokes       0  \n",
       "4979          Rural              83.94  30.0           smokes       0  \n",
       "4980          Urban              83.75  29.1     never smoked       0  \n",
       "\n",
       "[4981 rows x 11 columns]"
      ]
     },
     "execution_count": 261,
     "metadata": {},
     "output_type": "execute_result"
    }
   ],
   "source": [
    "#displaying\n",
    "brain"
   ]
  },
  {
   "cell_type": "markdown",
   "id": "e4556dba",
   "metadata": {},
   "source": [
    "**Splitting train and test dataset**\n",
    "\n",
    "Now we are splitting the dataset of specfic columns \n",
    "\n",
    "zz = brain[['hypertension','heart_disease','avg_glucose_level','bmi']]\n",
    "\n",
    "aa = brain['stroke']"
   ]
  },
  {
   "cell_type": "code",
   "execution_count": 268,
   "id": "31b167f1",
   "metadata": {},
   "outputs": [],
   "source": [
    "# Spliting the data into (X) and labels (y)\n",
    "zz = brain[['hypertension','heart_disease','avg_glucose_level','bmi']]\n",
    "aa = brain['stroke']"
   ]
  },
  {
   "cell_type": "code",
   "execution_count": 269,
   "id": "ac86fed5",
   "metadata": {},
   "outputs": [],
   "source": [
    "# Spliting the data into training and testing \n",
    "X_train, X_test, Y_train, Y_test = train_test_split(zz, aa, test_size=0.2, random_state=42)"
   ]
  },
  {
   "cell_type": "markdown",
   "id": "af02684a",
   "metadata": {},
   "source": [
    "Defining linear regression function "
   ]
  },
  {
   "cell_type": "code",
   "execution_count": 270,
   "id": "18c7351b",
   "metadata": {},
   "outputs": [],
   "source": [
    "#Defining linear regression function\n",
    "simple_re = LinearRegression()"
   ]
  },
  {
   "cell_type": "markdown",
   "id": "ceabd4bf",
   "metadata": {},
   "source": [
    "Applying linear regression to x and train data"
   ]
  },
  {
   "cell_type": "code",
   "execution_count": 271,
   "id": "80d95907",
   "metadata": {},
   "outputs": [
    {
     "data": {
      "text/html": [
       "<style>#sk-container-id-13 {color: black;background-color: white;}#sk-container-id-13 pre{padding: 0;}#sk-container-id-13 div.sk-toggleable {background-color: white;}#sk-container-id-13 label.sk-toggleable__label {cursor: pointer;display: block;width: 100%;margin-bottom: 0;padding: 0.3em;box-sizing: border-box;text-align: center;}#sk-container-id-13 label.sk-toggleable__label-arrow:before {content: \"▸\";float: left;margin-right: 0.25em;color: #696969;}#sk-container-id-13 label.sk-toggleable__label-arrow:hover:before {color: black;}#sk-container-id-13 div.sk-estimator:hover label.sk-toggleable__label-arrow:before {color: black;}#sk-container-id-13 div.sk-toggleable__content {max-height: 0;max-width: 0;overflow: hidden;text-align: left;background-color: #f0f8ff;}#sk-container-id-13 div.sk-toggleable__content pre {margin: 0.2em;color: black;border-radius: 0.25em;background-color: #f0f8ff;}#sk-container-id-13 input.sk-toggleable__control:checked~div.sk-toggleable__content {max-height: 200px;max-width: 100%;overflow: auto;}#sk-container-id-13 input.sk-toggleable__control:checked~label.sk-toggleable__label-arrow:before {content: \"▾\";}#sk-container-id-13 div.sk-estimator input.sk-toggleable__control:checked~label.sk-toggleable__label {background-color: #d4ebff;}#sk-container-id-13 div.sk-label input.sk-toggleable__control:checked~label.sk-toggleable__label {background-color: #d4ebff;}#sk-container-id-13 input.sk-hidden--visually {border: 0;clip: rect(1px 1px 1px 1px);clip: rect(1px, 1px, 1px, 1px);height: 1px;margin: -1px;overflow: hidden;padding: 0;position: absolute;width: 1px;}#sk-container-id-13 div.sk-estimator {font-family: monospace;background-color: #f0f8ff;border: 1px dotted black;border-radius: 0.25em;box-sizing: border-box;margin-bottom: 0.5em;}#sk-container-id-13 div.sk-estimator:hover {background-color: #d4ebff;}#sk-container-id-13 div.sk-parallel-item::after {content: \"\";width: 100%;border-bottom: 1px solid gray;flex-grow: 1;}#sk-container-id-13 div.sk-label:hover label.sk-toggleable__label {background-color: #d4ebff;}#sk-container-id-13 div.sk-serial::before {content: \"\";position: absolute;border-left: 1px solid gray;box-sizing: border-box;top: 0;bottom: 0;left: 50%;z-index: 0;}#sk-container-id-13 div.sk-serial {display: flex;flex-direction: column;align-items: center;background-color: white;padding-right: 0.2em;padding-left: 0.2em;position: relative;}#sk-container-id-13 div.sk-item {position: relative;z-index: 1;}#sk-container-id-13 div.sk-parallel {display: flex;align-items: stretch;justify-content: center;background-color: white;position: relative;}#sk-container-id-13 div.sk-item::before, #sk-container-id-13 div.sk-parallel-item::before {content: \"\";position: absolute;border-left: 1px solid gray;box-sizing: border-box;top: 0;bottom: 0;left: 50%;z-index: -1;}#sk-container-id-13 div.sk-parallel-item {display: flex;flex-direction: column;z-index: 1;position: relative;background-color: white;}#sk-container-id-13 div.sk-parallel-item:first-child::after {align-self: flex-end;width: 50%;}#sk-container-id-13 div.sk-parallel-item:last-child::after {align-self: flex-start;width: 50%;}#sk-container-id-13 div.sk-parallel-item:only-child::after {width: 0;}#sk-container-id-13 div.sk-dashed-wrapped {border: 1px dashed gray;margin: 0 0.4em 0.5em 0.4em;box-sizing: border-box;padding-bottom: 0.4em;background-color: white;}#sk-container-id-13 div.sk-label label {font-family: monospace;font-weight: bold;display: inline-block;line-height: 1.2em;}#sk-container-id-13 div.sk-label-container {text-align: center;}#sk-container-id-13 div.sk-container {/* jupyter's `normalize.less` sets `[hidden] { display: none; }` but bootstrap.min.css set `[hidden] { display: none !important; }` so we also need the `!important` here to be able to override the default hidden behavior on the sphinx rendered scikit-learn.org. See: https://github.com/scikit-learn/scikit-learn/issues/21755 */display: inline-block !important;position: relative;}#sk-container-id-13 div.sk-text-repr-fallback {display: none;}</style><div id=\"sk-container-id-13\" class=\"sk-top-container\"><div class=\"sk-text-repr-fallback\"><pre>LinearRegression()</pre><b>In a Jupyter environment, please rerun this cell to show the HTML representation or trust the notebook. <br />On GitHub, the HTML representation is unable to render, please try loading this page with nbviewer.org.</b></div><div class=\"sk-container\" hidden><div class=\"sk-item\"><div class=\"sk-estimator sk-toggleable\"><input class=\"sk-toggleable__control sk-hidden--visually\" id=\"sk-estimator-id-13\" type=\"checkbox\" checked><label for=\"sk-estimator-id-13\" class=\"sk-toggleable__label sk-toggleable__label-arrow\">LinearRegression</label><div class=\"sk-toggleable__content\"><pre>LinearRegression()</pre></div></div></div></div></div>"
      ],
      "text/plain": [
       "LinearRegression()"
      ]
     },
     "execution_count": 271,
     "metadata": {},
     "output_type": "execute_result"
    }
   ],
   "source": [
    "#Applying limnear regression\n",
    "simple_re.fit(X_train, Y_train) "
   ]
  },
  {
   "cell_type": "markdown",
   "id": "035eb760",
   "metadata": {},
   "source": [
    "Predicting x and y"
   ]
  },
  {
   "cell_type": "code",
   "execution_count": 272,
   "id": "cbd1231c",
   "metadata": {},
   "outputs": [],
   "source": [
    "#prediction\n",
    "y_pred=simple_re.predict(X_test)"
   ]
  },
  {
   "cell_type": "code",
   "execution_count": 273,
   "id": "6dc9783a",
   "metadata": {},
   "outputs": [],
   "source": [
    "#prediction\n",
    "x_pred= simple_re.predict(X_train)"
   ]
  },
  {
   "cell_type": "markdown",
   "id": "0d0d9a14",
   "metadata": {},
   "source": [
    "Printing coefficients and intercepts"
   ]
  },
  {
   "cell_type": "code",
   "execution_count": 277,
   "id": "f25d9c09",
   "metadata": {},
   "outputs": [
    {
     "name": "stdout",
     "output_type": "stream",
     "text": [
      "coefficient: [0.07318268 0.0752808  0.0004954  0.00034711]\n"
     ]
    }
   ],
   "source": [
    "#print intercept\n",
    "print(\"coefficient:\", simple_re.coef_)"
   ]
  },
  {
   "cell_type": "code",
   "execution_count": 278,
   "id": "00a61e2a",
   "metadata": {},
   "outputs": [
    {
     "name": "stdout",
     "output_type": "stream",
     "text": [
      "intercept: -0.024524139265428978\n"
     ]
    }
   ],
   "source": [
    "#print intercept\n",
    "print(\"intercept:\", simple_re.intercept_)"
   ]
  },
  {
   "cell_type": "code",
   "execution_count": null,
   "id": "d9a191f8",
   "metadata": {},
   "outputs": [],
   "source": []
  }
 ],
 "metadata": {
  "kernelspec": {
   "display_name": "Python 3 (ipykernel)",
   "language": "python",
   "name": "python3"
  },
  "language_info": {
   "codemirror_mode": {
    "name": "ipython",
    "version": 3
   },
   "file_extension": ".py",
   "mimetype": "text/x-python",
   "name": "python",
   "nbconvert_exporter": "python",
   "pygments_lexer": "ipython3",
   "version": "3.9.7"
  }
 },
 "nbformat": 4,
 "nbformat_minor": 5
}
