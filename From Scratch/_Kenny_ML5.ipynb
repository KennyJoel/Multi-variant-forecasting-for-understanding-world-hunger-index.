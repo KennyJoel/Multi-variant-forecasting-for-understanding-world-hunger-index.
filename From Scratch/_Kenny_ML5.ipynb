{
 "cells": [
  {
   "cell_type": "markdown",
   "id": "a9b1ef97",
   "metadata": {},
   "source": [
    "# Kuragayala Kenny Joel ML LAB 5"
   ]
  },
  {
   "cell_type": "code",
   "execution_count": 88,
   "id": "f4a78c2f",
   "metadata": {},
   "outputs": [],
   "source": [
    "#Importiung the Libraries \n",
    "import pandas as pd\n",
    "from scipy import stats\n",
    "import numpy as np\n",
    "import matplotlib.pyplot as plt"
   ]
  },
  {
   "cell_type": "code",
   "execution_count": 89,
   "id": "588aa792",
   "metadata": {},
   "outputs": [],
   "source": [
    "# Read the data from file\n",
    "data = pd.read_excel(\"F:/SEM 6/ML LAB/GHIData.xlsx\")"
   ]
  },
  {
   "cell_type": "code",
   "execution_count": 90,
   "id": "8ad784c1",
   "metadata": {},
   "outputs": [
    {
     "data": {
      "text/html": [
       "<div>\n",
       "<style scoped>\n",
       "    .dataframe tbody tr th:only-of-type {\n",
       "        vertical-align: middle;\n",
       "    }\n",
       "\n",
       "    .dataframe tbody tr th {\n",
       "        vertical-align: top;\n",
       "    }\n",
       "\n",
       "    .dataframe thead th {\n",
       "        text-align: right;\n",
       "    }\n",
       "</style>\n",
       "<table border=\"1\" class=\"dataframe\">\n",
       "  <thead>\n",
       "    <tr style=\"text-align: right;\">\n",
       "      <th></th>\n",
       "      <th>Country</th>\n",
       "      <th>2000–2002</th>\n",
       "      <th>2006–2008</th>\n",
       "      <th>2013–2015</th>\n",
       "      <th>2019–2021</th>\n",
       "      <th>1998–2002</th>\n",
       "      <th>2005–2009</th>\n",
       "      <th>2012–2016</th>\n",
       "      <th>2017–2021</th>\n",
       "      <th>1998–2002.1</th>\n",
       "      <th>2005–2009.1</th>\n",
       "      <th>2012–2016.1</th>\n",
       "      <th>2017–2021.1</th>\n",
       "      <th>Early</th>\n",
       "      <th>Mid</th>\n",
       "      <th>2014</th>\n",
       "      <th>2020</th>\n",
       "    </tr>\n",
       "  </thead>\n",
       "  <tbody>\n",
       "    <tr>\n",
       "      <th>0</th>\n",
       "      <td>Afghanistan</td>\n",
       "      <td>47.8</td>\n",
       "      <td>29.8</td>\n",
       "      <td>20.7</td>\n",
       "      <td>29.8</td>\n",
       "      <td>10.9</td>\n",
       "      <td>8.3</td>\n",
       "      <td>9.5</td>\n",
       "      <td>5.1</td>\n",
       "      <td>50.6</td>\n",
       "      <td>51.1</td>\n",
       "      <td>40.4</td>\n",
       "      <td>38.2</td>\n",
       "      <td>12.9</td>\n",
       "      <td>10.0</td>\n",
       "      <td>7.4</td>\n",
       "      <td>5.8</td>\n",
       "    </tr>\n",
       "    <tr>\n",
       "      <th>1</th>\n",
       "      <td>Albania</td>\n",
       "      <td>4.9</td>\n",
       "      <td>8.3</td>\n",
       "      <td>5.0</td>\n",
       "      <td>3.9</td>\n",
       "      <td>12.2</td>\n",
       "      <td>8.5</td>\n",
       "      <td>4.5</td>\n",
       "      <td>1.6</td>\n",
       "      <td>39.2</td>\n",
       "      <td>25.0</td>\n",
       "      <td>15.2</td>\n",
       "      <td>11.3</td>\n",
       "      <td>2.7</td>\n",
       "      <td>1.7</td>\n",
       "      <td>1.0</td>\n",
       "      <td>1.0</td>\n",
       "    </tr>\n",
       "    <tr>\n",
       "      <th>2</th>\n",
       "      <td>Algeria</td>\n",
       "      <td>8.0</td>\n",
       "      <td>5.9</td>\n",
       "      <td>2.9</td>\n",
       "      <td>2.5</td>\n",
       "      <td>3.1</td>\n",
       "      <td>4.1</td>\n",
       "      <td>4.1</td>\n",
       "      <td>2.7</td>\n",
       "      <td>23.6</td>\n",
       "      <td>15.4</td>\n",
       "      <td>11.7</td>\n",
       "      <td>9.8</td>\n",
       "      <td>4.0</td>\n",
       "      <td>3.1</td>\n",
       "      <td>2.5</td>\n",
       "      <td>2.3</td>\n",
       "    </tr>\n",
       "    <tr>\n",
       "      <th>3</th>\n",
       "      <td>Angola</td>\n",
       "      <td>67.5</td>\n",
       "      <td>46.1</td>\n",
       "      <td>13.7</td>\n",
       "      <td>20.8</td>\n",
       "      <td>11.2</td>\n",
       "      <td>8.2</td>\n",
       "      <td>4.9</td>\n",
       "      <td>6.1</td>\n",
       "      <td>46.7</td>\n",
       "      <td>29.2</td>\n",
       "      <td>37.6</td>\n",
       "      <td>29.8</td>\n",
       "      <td>20.4</td>\n",
       "      <td>14.7</td>\n",
       "      <td>9.3</td>\n",
       "      <td>7.1</td>\n",
       "    </tr>\n",
       "    <tr>\n",
       "      <th>4</th>\n",
       "      <td>Argentina</td>\n",
       "      <td>3.0</td>\n",
       "      <td>3.3</td>\n",
       "      <td>2.5</td>\n",
       "      <td>3.7</td>\n",
       "      <td>1.7</td>\n",
       "      <td>1.2</td>\n",
       "      <td>1.6</td>\n",
       "      <td>2.7</td>\n",
       "      <td>10.5</td>\n",
       "      <td>8.2</td>\n",
       "      <td>8.3</td>\n",
       "      <td>12.3</td>\n",
       "      <td>2.0</td>\n",
       "      <td>1.6</td>\n",
       "      <td>1.2</td>\n",
       "      <td>0.9</td>\n",
       "    </tr>\n",
       "  </tbody>\n",
       "</table>\n",
       "</div>"
      ],
      "text/plain": [
       "       Country  2000–2002  2006–2008  2013–2015  2019–2021  1998–2002  \\\n",
       "0  Afghanistan       47.8       29.8       20.7       29.8       10.9   \n",
       "1      Albania        4.9        8.3        5.0        3.9       12.2   \n",
       "2      Algeria        8.0        5.9        2.9        2.5        3.1   \n",
       "3       Angola       67.5       46.1       13.7       20.8       11.2   \n",
       "4    Argentina        3.0        3.3        2.5        3.7        1.7   \n",
       "\n",
       "   2005–2009  2012–2016  2017–2021  1998–2002.1  2005–2009.1  2012–2016.1  \\\n",
       "0        8.3        9.5        5.1         50.6         51.1         40.4   \n",
       "1        8.5        4.5        1.6         39.2         25.0         15.2   \n",
       "2        4.1        4.1        2.7         23.6         15.4         11.7   \n",
       "3        8.2        4.9        6.1         46.7         29.2         37.6   \n",
       "4        1.2        1.6        2.7         10.5          8.2          8.3   \n",
       "\n",
       "   2017–2021.1  Early   Mid  2014  2020  \n",
       "0         38.2   12.9  10.0   7.4   5.8  \n",
       "1         11.3    2.7   1.7   1.0   1.0  \n",
       "2          9.8    4.0   3.1   2.5   2.3  \n",
       "3         29.8   20.4  14.7   9.3   7.1  \n",
       "4         12.3    2.0   1.6   1.2   0.9  "
      ]
     },
     "execution_count": 90,
     "metadata": {},
     "output_type": "execute_result"
    }
   ],
   "source": [
    "# Preview the data\n",
    "data.head()"
   ]
  },
  {
   "cell_type": "code",
   "execution_count": 91,
   "id": "2b5b9605",
   "metadata": {},
   "outputs": [],
   "source": [
    "# Descriptive statistics\n",
    "mean_2000= data['Early'].mean()\n",
    "median_2000 = data['Early'].median()\n",
    "var_2000 = data['Early'].var()\n",
    "std_2000 = data['Early'].std()"
   ]
  },
  {
   "cell_type": "code",
   "execution_count": 92,
   "id": "581d51ea",
   "metadata": {},
   "outputs": [],
   "source": [
    "mean_ = data['Mid'].mean()\n",
    "median_ = data['Mid'].median()\n",
    "var_ = data['Mid'].var()\n",
    "std_ = data['Mid'].std()"
   ]
  },
  {
   "cell_type": "code",
   "execution_count": 93,
   "id": "75d49180",
   "metadata": {},
   "outputs": [
    {
     "name": "stdout",
     "output_type": "stream",
     "text": [
      "Early: mean=7.323529411764706, median=5.1, variance=33.79840522875818, std=5.813639585385232\n"
     ]
    }
   ],
   "source": [
    "print(f\"Early: mean={mean_2000}, median={median_2000}, variance={var_2000}, std={std_2000}\")"
   ]
  },
  {
   "cell_type": "code",
   "execution_count": 94,
   "id": "253d3b2a",
   "metadata": {
    "scrolled": true
   },
   "outputs": [
    {
     "name": "stdout",
     "output_type": "stream",
     "text": [
      "Mid: mean=5.457352941176468, median=3.6500000000000004, variance=20.039204793028315, std=4.476517038170224\n"
     ]
    }
   ],
   "source": [
    "print(f\"Mid: mean={mean_}, median={median_}, variance={var_}, std={std_}\")"
   ]
  },
  {
   "cell_type": "code",
   "execution_count": 95,
   "id": "5bf81ce8",
   "metadata": {},
   "outputs": [],
   "source": [
    "# Extract the two columns of interest\n",
    "early_col = data['Early']\n",
    "mid_col = data['Mid']"
   ]
  },
  {
   "cell_type": "markdown",
   "id": "f4b0cb5a",
   "metadata": {},
   "source": [
    "Calculates the covariance matrix between the early_col and mid_col columns of the data."
   ]
  },
  {
   "cell_type": "code",
   "execution_count": 96,
   "id": "8956952a",
   "metadata": {},
   "outputs": [
    {
     "name": "stdout",
     "output_type": "stream",
     "text": [
      "Conditional probability: 1.257345106188903\n"
     ]
    }
   ],
   "source": [
    "# Calculate the conditional probability\n",
    "cov = np.cov(early_col, mid_col)\n",
    "cond_prob = cov[0, 1] / cov[1, 1]\n",
    "print(\"Conditional probability:\", cond_prob)"
   ]
  },
  {
   "cell_type": "markdown",
   "id": "770a1c2d",
   "metadata": {},
   "source": [
    "Calculates the posterior probability for each value of the mid_col using the conditional probability, means, and standard deviations of the early_col and mid_col."
   ]
  },
  {
   "cell_type": "code",
   "execution_count": 97,
   "id": "26b3e960",
   "metadata": {},
   "outputs": [
    {
     "name": "stdout",
     "output_type": "stream",
     "text": [
      "Posterior probability:\n",
      " 0      14.741265\n",
      "1       1.188109\n",
      "2       3.474183\n",
      "3      22.415944\n",
      "4       1.024818\n",
      "         ...    \n",
      "131     1.188109\n",
      "132     2.331146\n",
      "133     9.189370\n",
      "134    13.598228\n",
      "135    14.088101\n",
      "Name: Mid, Length: 136, dtype: float64\n"
     ]
    }
   ],
   "source": [
    "# Calculate the posterior probability for each value of the \"Mid\" column\n",
    "mid_mean = np.mean(mid_col)\n",
    "mid_std = np.std(mid_col)\n",
    "early_mean = np.mean(early_col)\n",
    "early_std = np.std(early_col)\n",
    "post_prob = (cond_prob * (mid_col - mid_mean) / mid_std * early_std) + early_mean\n",
    "print(\"Posterior probability:\\n\", post_prob)"
   ]
  },
  {
   "cell_type": "code",
   "execution_count": 98,
   "id": "0792f7a0",
   "metadata": {},
   "outputs": [],
   "source": [
    "# Extract the column of interest\n",
    "col = data['Early']"
   ]
  },
  {
   "cell_type": "markdown",
   "id": "bc2ca71a",
   "metadata": {},
   "source": [
    "Calculates the probability mass function (PMF) for the col using the numpy.histogram function with automatic binning and normalized density.\n",
    "Normalizes the PMF so that its sum is equal to one."
   ]
  },
  {
   "cell_type": "code",
   "execution_count": 99,
   "id": "f88dd019",
   "metadata": {},
   "outputs": [],
   "source": [
    "# Calculate the PMF\n",
    "pmf, bin_edges = np.histogram(col, bins='auto', density=True)\n",
    "pmf = pmf / np.sum(pmf)"
   ]
  },
  {
   "cell_type": "code",
   "execution_count": 100,
   "id": "140c6fd0",
   "metadata": {},
   "outputs": [],
   "source": [
    "# Calculate the CDF\n",
    "cdf = np.cumsum(pmf)"
   ]
  },
  {
   "cell_type": "code",
   "execution_count": 101,
   "id": "ab2c7805",
   "metadata": {},
   "outputs": [],
   "source": [
    "# Calculate the PDF\n",
    "pdf = stats.gaussian_kde(col)"
   ]
  },
  {
   "cell_type": "markdown",
   "id": "4bda57a1",
   "metadata": {},
   "source": [
    "Creates a range of 1000 equally spaced values between the minimum and maximum values of col."
   ]
  },
  {
   "cell_type": "code",
   "execution_count": 102,
   "id": "7f26b9f7",
   "metadata": {},
   "outputs": [],
   "source": [
    "# Generate a range of values for the PDF\n",
    "pdf_range = np.linspace(min(col), max(col), 1000)\n",
    "# Evaluate the PDF at the range of values\n",
    "pdf_values = pdf.evaluate(pdf_range)"
   ]
  },
  {
   "cell_type": "code",
   "execution_count": 103,
   "id": "0f5ea361",
   "metadata": {},
   "outputs": [
    {
     "name": "stdout",
     "output_type": "stream",
     "text": [
      "PMF:\n",
      " [0.35294118 0.16911765 0.08823529 0.10294118 0.08088235 0.05882353\n",
      " 0.07352941 0.05147059 0.02205882]\n",
      "CDF:\n",
      " [0.35294118 0.52205882 0.61029412 0.71323529 0.79411765 0.85294118\n",
      " 0.92647059 0.97794118 1.        ]\n"
     ]
    }
   ],
   "source": [
    "# Print the results\n",
    "print(\"PMF:\\n\", pmf)\n",
    "print(\"CDF:\\n\", cdf)"
   ]
  },
  {
   "cell_type": "code",
   "execution_count": 104,
   "id": "5d09bdde",
   "metadata": {},
   "outputs": [
    {
     "name": "stdout",
     "output_type": "stream",
     "text": [
      "PDF Values:\n",
      " [0.0648352  0.06524174 0.06564584 0.06604743 0.06644645 0.06684282\n",
      " 0.06723648 0.06762736 0.06801539 0.06840051 0.06878266 0.06916175\n",
      " 0.06953773 0.06991054 0.07028011 0.07064638 0.07100928 0.07136875\n",
      " 0.07172474 0.07207717 0.07242599 0.07277114 0.07311256 0.07345019\n",
      " 0.07378398 0.07411386 0.07443979 0.0747617  0.07507955 0.07539328\n",
      " 0.07570284 0.07600817 0.07630923 0.07660596 0.07689833 0.07718627\n",
      " 0.07746975 0.07774871 0.07802312 0.07829293 0.07855809 0.07881857\n",
      " 0.07907432 0.07932531 0.0795715  0.07981284 0.08004931 0.08028087\n",
      " 0.08050749 0.08072913 0.08094576 0.08115735 0.08136387 0.0815653\n",
      " 0.08176161 0.08195277 0.08213876 0.08231955 0.08249513 0.08266548\n",
      " 0.08283056 0.08299038 0.0831449  0.08329412 0.08343802 0.08357659\n",
      " 0.08370982 0.08383769 0.0839602  0.08407735 0.08418911 0.08429549\n",
      " 0.08439649 0.08449211 0.08458233 0.08466717 0.08474661 0.08482068\n",
      " 0.08488937 0.08495268 0.08501062 0.08506321 0.08511044 0.08515233\n",
      " 0.0851889  0.08522015 0.0852461  0.08526676 0.08528216 0.0852923\n",
      " 0.08529721 0.08529691 0.08529142 0.08528077 0.08526497 0.08524405\n",
      " 0.08521805 0.08518698 0.08515087 0.08510976 0.08506367 0.08501264\n",
      " 0.08495671 0.0848959  0.08483024 0.08475979 0.08468457 0.08460462\n",
      " 0.08451998 0.0844307  0.08433681 0.08423835 0.08413538 0.08402792\n",
      " 0.08391604 0.08379977 0.08367917 0.08355427 0.08342513 0.0832918\n",
      " 0.08315433 0.08301277 0.08286717 0.08271758 0.08256406 0.08240666\n",
      " 0.08224544 0.08208045 0.08191174 0.08173938 0.08156342 0.08138393\n",
      " 0.08120095 0.08101454 0.08082478 0.08063171 0.0804354  0.08023591\n",
      " 0.0800333  0.07982763 0.07961897 0.07940737 0.07919291 0.07897564\n",
      " 0.07875563 0.07853294 0.07830764 0.07807978 0.07784945 0.0776167\n",
      " 0.07738159 0.07714419 0.07690458 0.0766628  0.07641894 0.07617305\n",
      " 0.0759252  0.07567547 0.0754239  0.07517057 0.07491555 0.07465891\n",
      " 0.0744007  0.07414099 0.07387985 0.07361735 0.07335355 0.07308851\n",
      " 0.07282231 0.072555   0.07228666 0.07201734 0.07174711 0.07147603\n",
      " 0.07120418 0.0709316  0.07065837 0.07038455 0.07011019 0.06983537\n",
      " 0.06956014 0.06928457 0.06900871 0.06873262 0.06845638 0.06818003\n",
      " 0.06790363 0.06762724 0.06735093 0.06707474 0.06679874 0.06652298\n",
      " 0.06624751 0.0659724  0.06569769 0.06542344 0.06514971 0.06487654\n",
      " 0.06460399 0.0643321  0.06406094 0.06379055 0.06352097 0.06325226\n",
      " 0.06298447 0.06271764 0.06245181 0.06218704 0.06192337 0.06166084\n",
      " 0.0613995  0.06113939 0.06088054 0.06062301 0.06036683 0.06011203\n",
      " 0.05985867 0.05960677 0.05935638 0.05910753 0.05886025 0.05861458\n",
      " 0.05837055 0.0581282  0.05788756 0.05764865 0.05741151 0.05717617\n",
      " 0.05694265 0.05671099 0.05648121 0.05625334 0.05602739 0.05580341\n",
      " 0.0555814  0.05536139 0.0551434  0.05492746 0.05471358 0.05450178\n",
      " 0.05429209 0.05408451 0.05387906 0.05367577 0.05347463 0.05327568\n",
      " 0.05307892 0.05288436 0.05269202 0.0525019  0.05231402 0.05212838\n",
      " 0.051945   0.05176387 0.05158501 0.05140842 0.05123411 0.05106208\n",
      " 0.05089233 0.05072488 0.0505597  0.05039682 0.05023623 0.05007793\n",
      " 0.04992192 0.0497682  0.04961675 0.04946759 0.04932071 0.0491761\n",
      " 0.04903375 0.04889366 0.04875583 0.04862024 0.0484869  0.04835578\n",
      " 0.04822688 0.04810019 0.0479757  0.04785339 0.04773327 0.0476153\n",
      " 0.04749949 0.04738581 0.04727426 0.04716482 0.04705746 0.04695219\n",
      " 0.04684898 0.0467478  0.04664866 0.04655153 0.04645638 0.04636321\n",
      " 0.04627199 0.04618271 0.04609533 0.04600985 0.04592624 0.04584448\n",
      " 0.04576456 0.04568643 0.04561009 0.04553551 0.04546267 0.04539155\n",
      " 0.04532212 0.04525435 0.04518822 0.04512371 0.0450608  0.04499945\n",
      " 0.04493964 0.04488135 0.04482455 0.04476921 0.04471531 0.04466282\n",
      " 0.04461171 0.04456196 0.04451353 0.04446641 0.04442056 0.04437596\n",
      " 0.04433258 0.04429038 0.04424935 0.04420945 0.04417065 0.04413294\n",
      " 0.04409627 0.04406062 0.04402596 0.04399227 0.0439595  0.04392765\n",
      " 0.04389667 0.04386653 0.04383722 0.04380869 0.04378093 0.0437539\n",
      " 0.04372757 0.04370192 0.04367691 0.04365253 0.04362873 0.04360549\n",
      " 0.04358279 0.04356059 0.04353886 0.04351759 0.04349674 0.04347628\n",
      " 0.04345618 0.04343643 0.04341698 0.04339782 0.04337892 0.04336024\n",
      " 0.04334177 0.04332348 0.04330533 0.04328732 0.0432694  0.04325155\n",
      " 0.04323376 0.04321598 0.04319821 0.04318041 0.04316256 0.04314463\n",
      " 0.04312661 0.04310847 0.04309017 0.04307172 0.04305307 0.0430342\n",
      " 0.0430151  0.04299575 0.04297612 0.04295618 0.04293593 0.04291533\n",
      " 0.04289437 0.04287304 0.0428513  0.04282914 0.04280654 0.04278348\n",
      " 0.04275995 0.04273593 0.04271139 0.04268633 0.04266072 0.04263456\n",
      " 0.04260781 0.04258048 0.04255253 0.04252397 0.04249477 0.04246492\n",
      " 0.0424344  0.04240321 0.04237132 0.04233874 0.04230544 0.04227142\n",
      " 0.04223665 0.04220114 0.04216488 0.04212784 0.04209003 0.04205143\n",
      " 0.04201203 0.04197183 0.04193082 0.04188899 0.04184634 0.04180285\n",
      " 0.04175852 0.04171335 0.04166733 0.04162046 0.04157272 0.04152413\n",
      " 0.04147466 0.04142433 0.04137312 0.04132104 0.04126808 0.04121424\n",
      " 0.04115952 0.04110392 0.04104743 0.04099007 0.04093183 0.0408727\n",
      " 0.0408127  0.04075182 0.04069006 0.04062743 0.04056394 0.04049957\n",
      " 0.04043434 0.04036825 0.04030131 0.04023352 0.04016488 0.0400954\n",
      " 0.04002509 0.03995395 0.03988199 0.03980922 0.03973564 0.03966126\n",
      " 0.03958608 0.03951013 0.03943339 0.0393559  0.03927764 0.03919864\n",
      " 0.0391189  0.03903843 0.03895725 0.03887536 0.03879277 0.0387095\n",
      " 0.03862556 0.03854095 0.0384557  0.03836981 0.0382833  0.03819617\n",
      " 0.03810845 0.03802014 0.03793126 0.03784182 0.03775184 0.03766133\n",
      " 0.03757031 0.03747878 0.03738677 0.03729428 0.03720134 0.03710796\n",
      " 0.03701415 0.03691993 0.03682532 0.03673033 0.03663498 0.03653928\n",
      " 0.03644325 0.03634691 0.03625027 0.03615334 0.03605616 0.03595872\n",
      " 0.03586105 0.03576317 0.0356651  0.03556684 0.03546841 0.03536984\n",
      " 0.03527115 0.03517233 0.03507343 0.03497444 0.03487539 0.0347763\n",
      " 0.03467718 0.03457805 0.03447893 0.03437983 0.03428077 0.03418177\n",
      " 0.03408285 0.03398401 0.03388529 0.03378668 0.03368822 0.03358992\n",
      " 0.03349179 0.03339385 0.03329612 0.03319861 0.03310134 0.03300433\n",
      " 0.03290758 0.03281113 0.03271497 0.03261913 0.03252362 0.03242846\n",
      " 0.03233366 0.03223924 0.03214521 0.03205158 0.03195838 0.03186561\n",
      " 0.03177329 0.03168142 0.03159004 0.03149914 0.03140874 0.03131886\n",
      " 0.0312295  0.03114068 0.03105241 0.03096471 0.03087758 0.03079104\n",
      " 0.03070509 0.03061976 0.03053504 0.03045095 0.0303675  0.03028471\n",
      " 0.03020257 0.0301211  0.03004032 0.02996022 0.02988081 0.02980212\n",
      " 0.02972413 0.02964687 0.02957034 0.02949454 0.02941949 0.02934518\n",
      " 0.02927164 0.02919886 0.02912685 0.02905561 0.02898515 0.02891549\n",
      " 0.02884661 0.02877853 0.02871125 0.02864477 0.0285791  0.02851424\n",
      " 0.0284502  0.02838698 0.02832458 0.028263   0.02820224 0.02814232\n",
      " 0.02808322 0.02802495 0.02796752 0.02791091 0.02785514 0.02780021\n",
      " 0.0277461  0.02769283 0.02764039 0.02758878 0.027538   0.02748805\n",
      " 0.02743893 0.02739063 0.02734315 0.0272965  0.02725066 0.02720564\n",
      " 0.02716143 0.02711802 0.02707543 0.02703363 0.02699263 0.02695242\n",
      " 0.026913   0.02687436 0.0268365  0.02679941 0.02676308 0.02672752\n",
      " 0.02669271 0.02665865 0.02662533 0.02659275 0.0265609  0.02652976\n",
      " 0.02649934 0.02646963 0.02644061 0.02641229 0.02638464 0.02635767\n",
      " 0.02633137 0.02630572 0.02628072 0.02625636 0.02623263 0.02620951\n",
      " 0.02618701 0.02616511 0.0261438  0.02612307 0.02610291 0.02608331\n",
      " 0.02606426 0.02604575 0.02602776 0.0260103  0.02599333 0.02597686\n",
      " 0.02596088 0.02594536 0.02593031 0.0259157  0.02590153 0.02588778\n",
      " 0.02587445 0.02586151 0.02584896 0.02583679 0.02582497 0.02581351\n",
      " 0.02580238 0.02579158 0.02578109 0.0257709  0.02576099 0.02575135\n",
      " 0.02574197 0.02573284 0.02572394 0.02571526 0.02570678 0.02569849\n",
      " 0.02569038 0.02568244 0.02567465 0.02566699 0.02565946 0.02565204\n",
      " 0.02564472 0.02563747 0.0256303  0.02562318 0.0256161  0.02560905\n",
      " 0.02560201 0.02559497 0.02558792 0.02558084 0.02557372 0.02556654\n",
      " 0.02555929 0.02555196 0.02554453 0.025537   0.02552933 0.02552153\n",
      " 0.02551358 0.02550547 0.02549718 0.02548869 0.02548    0.02547109\n",
      " 0.02546195 0.02545257 0.02544293 0.02543302 0.02542282 0.02541233\n",
      " 0.02540153 0.0253904  0.02537895 0.02536714 0.02535498 0.02534244\n",
      " 0.02532953 0.02531621 0.02530249 0.02528835 0.02527378 0.02525876\n",
      " 0.0252433  0.02522736 0.02521095 0.02519405 0.02517666 0.02515875\n",
      " 0.02514033 0.02512138 0.02510188 0.02508184 0.02506123 0.02504006\n",
      " 0.0250183  0.02499596 0.02497302 0.02494947 0.0249253  0.02490051\n",
      " 0.02487509 0.02484902 0.02482231 0.02479494 0.0247669  0.02473819\n",
      " 0.02470879 0.02467872 0.02464794 0.02461647 0.02458429 0.02455139\n",
      " 0.02451777 0.02448343 0.02444836 0.02441255 0.024376   0.0243387\n",
      " 0.02430065 0.02426185 0.02422229 0.02418196 0.02414086 0.02409899\n",
      " 0.02405635 0.02401293 0.02396873 0.02392375 0.02387798 0.02383142\n",
      " 0.02378408 0.02373594 0.02368702 0.0236373  0.02358678 0.02353547\n",
      " 0.02348337 0.02343047 0.02337678 0.02332229 0.02326701 0.02321094\n",
      " 0.02315407 0.02309642 0.02303797 0.02297874 0.02291873 0.02285793\n",
      " 0.02279635 0.022734   0.02267087 0.02260698 0.02254231 0.02247689\n",
      " 0.02241071 0.02234377 0.02227608 0.02220765 0.02213847 0.02206857\n",
      " 0.02199793 0.02192657 0.02185449 0.0217817  0.02170821 0.02163401\n",
      " 0.02155913 0.02148356 0.02140731 0.02133039 0.02125281 0.02117457\n",
      " 0.02109569 0.02101616 0.02093601 0.02085523 0.02077384 0.02069185\n",
      " 0.02060926 0.02052608 0.02044233 0.02035801 0.02027312 0.0201877\n",
      " 0.02010173 0.02001524 0.01992822 0.0198407  0.01975269 0.01966418\n",
      " 0.0195752  0.01948576 0.01939586 0.01930552 0.01921475 0.01912356\n",
      " 0.01903196 0.01893996 0.01884758 0.01875483 0.01866171 0.01856824\n",
      " 0.01847443 0.01838029 0.01828584 0.01819109 0.01809605 0.01800073\n",
      " 0.01790514 0.0178093  0.01771322 0.0176169  0.01752037 0.01742364\n",
      " 0.01732671 0.0172296  0.01713232 0.01703488 0.01693731 0.0168396\n",
      " 0.01674177 0.01664383 0.0165458  0.01644768 0.0163495  0.01625125\n",
      " 0.01615296 0.01605463 0.01595628 0.01585792 0.01575956 0.01566121\n",
      " 0.01556288 0.01546459 0.01536634 0.01526816 0.01517004 0.015072\n",
      " 0.01497405 0.01487621 0.01477847 0.01468087 0.01458339 0.01448606\n",
      " 0.01438889 0.01429188 0.01419504 0.01409839 0.01400194 0.01390569\n",
      " 0.01380966 0.01371385 0.01361827 0.01352294 0.01342785 0.01333303\n",
      " 0.01323848 0.0131442  0.01305021 0.01295651 0.01286312 0.01277004\n",
      " 0.01267727 0.01258483 0.01249272 0.01240095 0.01230953 0.01221846\n",
      " 0.01212775 0.01203741 0.01194744 0.01185785 0.01176865 0.01167983\n",
      " 0.01159142 0.01150341 0.0114158  0.01132861 0.01124183 0.01115548\n",
      " 0.01106956 0.01098406 0.010899   0.01081438 0.01073021 0.01064648\n",
      " 0.0105632  0.01048038 0.01039801 0.01031611 0.01023467 0.01015369\n",
      " 0.01007318 0.00999314 0.00991357 0.00983448 0.00975587 0.00967773\n",
      " 0.00960007 0.0095229  0.0094462  0.00936999 0.00929426 0.00921902\n",
      " 0.00914426 0.00906999 0.0089962  0.0089229  0.00885009 0.00877776\n",
      " 0.00870592 0.00863456 0.00856369 0.0084933  0.00842339 0.00835397\n",
      " 0.00828503 0.00821657 0.00814859 0.00808108 0.00801405 0.0079475\n",
      " 0.00788142 0.00781581 0.00775067 0.007686   0.00762179 0.00755804\n",
      " 0.00749476 0.00743193 0.00736956 0.00730764 0.00724618 0.00718516\n",
      " 0.00712458 0.00706446 0.00700477 0.00694551 0.00688669 0.00682831\n",
      " 0.00677035 0.00671281 0.0066557  0.00659901 0.00654273 0.00648687\n",
      " 0.00643141 0.00637636 0.00632171 0.00626746 0.0062136  0.00616014\n",
      " 0.00610707 0.00605438 0.00600207 0.00595014 0.00589859 0.00584741\n",
      " 0.00579659 0.00574614 0.00569605 0.00564632]\n"
     ]
    }
   ],
   "source": [
    "print(\"PDF Values:\\n\", pdf_values)"
   ]
  },
  {
   "cell_type": "code",
   "execution_count": 105,
   "id": "c115466a",
   "metadata": {},
   "outputs": [],
   "source": [
    "# Define the probability distribution parameters\n",
    "mu_early = np.mean(early_col)\n",
    "mu_mid = np.mean(mid_col)\n",
    "sigma_early = np.std(early_col)\n",
    "sigma_mid = np.std(mid_col)"
   ]
  },
  {
   "cell_type": "markdown",
   "id": "2f2641f5",
   "metadata": {},
   "source": [
    "Creates an array of 1000 evenly spaced values between 0 and 20. This will be used as the x-axis values for the probability density and mass functions."
   ]
  },
  {
   "cell_type": "code",
   "execution_count": 106,
   "id": "157f1fff",
   "metadata": {},
   "outputs": [],
   "source": [
    "# Create a range of x values\n",
    "x = np.linspace(0, 20, 1000)"
   ]
  },
  {
   "cell_type": "markdown",
   "id": "33d741d8",
   "metadata": {},
   "source": [
    "Calculates the probability density function for a Gaussian (normal) distribution with mean mu_early and standard deviation sigma_early. This is done using the pdf() function from the stats.norm module in SciPy. The resulting array of probabilities is assigned to pdf_gaussian_early."
   ]
  },
  {
   "cell_type": "code",
   "execution_count": 107,
   "id": "185c8d2f",
   "metadata": {},
   "outputs": [],
   "source": [
    "# Calculate the probability density function (PDF) for a Gaussian distribution\n",
    "pdf_gaussian_early = stats.norm.pdf(x, loc=mu_early, scale=sigma_early)\n",
    "pdf_gaussian_mid = stats.norm.pdf(x, loc=mu_mid, scale=sigma_mid)"
   ]
  },
  {
   "cell_type": "markdown",
   "id": "03389d26",
   "metadata": {},
   "source": [
    "n = len(early): Sets n equal to the length of the \"Early\" column of data. This will be used as the number of trials for the binomial and Bernoulli distributions.\n",
    "\n",
    "\n",
    "p = 0.5: Sets p equal to 0.5, which will be used as the probability of success for the binomial and Bernoulli distributions.\n",
    "\n",
    "\n",
    "Calculates the probability mass function for a binomial distribution with n trials and probability of success p. This is done using the pmf() function from the stats.binom module in SciPy. The resulting array of probabilities is assigned to pmf_binomial_early."
   ]
  },
  {
   "cell_type": "code",
   "execution_count": 108,
   "id": "683f89da",
   "metadata": {},
   "outputs": [],
   "source": [
    "# Calculate the probability mass function (PMF) for a binomial distribution\n",
    "n = len(early)\n",
    "p = 0.5\n",
    "pmf_binomial_early = stats.binom.pmf(np.arange(n+1), n, p)\n",
    "pmf_binomial_mid = stats.binom.pmf(np.arange(n+1), n, p)"
   ]
  },
  {
   "cell_type": "markdown",
   "id": "112d6471",
   "metadata": {},
   "source": [
    "But now here for bernouli"
   ]
  },
  {
   "cell_type": "code",
   "execution_count": 109,
   "id": "4eab6b19",
   "metadata": {},
   "outputs": [],
   "source": [
    "# Calculate the probability mass function (PMF) for a Bernoulli distribution\n",
    "pmf_bernoulli_early = stats.bernoulli.pmf(np.arange(2), p)\n",
    "pmf_bernoulli_mid = stats.bernoulli.pmf(np.arange(2), p)"
   ]
  },
  {
   "cell_type": "markdown",
   "id": "c14ee682",
   "metadata": {},
   "source": [
    "Plotting the graph"
   ]
  },
  {
   "cell_type": "code",
   "execution_count": 110,
   "id": "ba9ec5c3",
   "metadata": {
    "scrolled": true
   },
   "outputs": [
    {
     "data": {
      "image/png": "[encoded data removed]",
      "text/plain": [
       "<Figure size 1080x360 with 3 Axes>"
      ]
     },
     "metadata": {
      "needs_background": "light"
     },
     "output_type": "display_data"
    }
   ],
   "source": [
    "# Plot the PDF and PMFs\n",
    "fig, ax = plt.subplots(1, 3, figsize=(15, 5))\n",
    "\n",
    "ax[0].plot(x, pdf_mid)\n",
    "ax[0].set_title(\"Gaussian PDF for Mid\")\n",
    "\n",
    "ax[1].bar(np.arange(n+1), pmf_binomial)\n",
    "ax[1].set_title(\"Binomial PMF for Early\")\n",
    "\n",
    "ax[2].bar(np.arange(2), pmf_bernoulli)\n",
    "ax[2].set_title(\"Bernoulli PMF\")\n",
    "\n",
    "plt.show()"
   ]
  },
  {
   "cell_type": "markdown",
   "id": "7e46df0c",
   "metadata": {},
   "source": [
    "**For Synthetic Data**"
   ]
  },
  {
   "cell_type": "code",
   "execution_count": 111,
   "id": "a8cc2a8e",
   "metadata": {},
   "outputs": [],
   "source": [
    "from sklearn.datasets import make_classification\n",
    "# Generate synthetic data with two features and two classes\n",
    "X, y = make_classification(n_samples=1000, n_features=2, n_redundant=0, n_informative=2,\n",
    "                           n_clusters_per_class=1, class_sep=0.5, random_state=42)"
   ]
  },
  {
   "cell_type": "code",
   "execution_count": 112,
   "id": "2d5707bf",
   "metadata": {},
   "outputs": [],
   "source": [
    "# Create dataframe from X and y\n",
    "data = pd.DataFrame(X, columns=['Early', 'Mid'])\n",
    "data['Label'] = y"
   ]
  },
  {
   "cell_type": "code",
   "execution_count": 113,
   "id": "62a477a5",
   "metadata": {},
   "outputs": [
    {
     "data": {
      "text/html": [
       "<div>\n",
       "<style scoped>\n",
       "    .dataframe tbody tr th:only-of-type {\n",
       "        vertical-align: middle;\n",
       "    }\n",
       "\n",
       "    .dataframe tbody tr th {\n",
       "        vertical-align: top;\n",
       "    }\n",
       "\n",
       "    .dataframe thead th {\n",
       "        text-align: right;\n",
       "    }\n",
       "</style>\n",
       "<table border=\"1\" class=\"dataframe\">\n",
       "  <thead>\n",
       "    <tr style=\"text-align: right;\">\n",
       "      <th></th>\n",
       "      <th>Early</th>\n",
       "      <th>Mid</th>\n",
       "      <th>Label</th>\n",
       "    </tr>\n",
       "  </thead>\n",
       "  <tbody>\n",
       "    <tr>\n",
       "      <th>0</th>\n",
       "      <td>0.101034</td>\n",
       "      <td>1.035353</td>\n",
       "      <td>1</td>\n",
       "    </tr>\n",
       "    <tr>\n",
       "      <th>1</th>\n",
       "      <td>0.255945</td>\n",
       "      <td>-0.672352</td>\n",
       "      <td>0</td>\n",
       "    </tr>\n",
       "    <tr>\n",
       "      <th>2</th>\n",
       "      <td>0.854479</td>\n",
       "      <td>-0.448528</td>\n",
       "      <td>0</td>\n",
       "    </tr>\n",
       "    <tr>\n",
       "      <th>3</th>\n",
       "      <td>2.603090</td>\n",
       "      <td>0.733485</td>\n",
       "      <td>0</td>\n",
       "    </tr>\n",
       "    <tr>\n",
       "      <th>4</th>\n",
       "      <td>0.253178</td>\n",
       "      <td>0.287514</td>\n",
       "      <td>1</td>\n",
       "    </tr>\n",
       "  </tbody>\n",
       "</table>\n",
       "</div>"
      ],
      "text/plain": [
       "      Early       Mid  Label\n",
       "0  0.101034  1.035353      1\n",
       "1  0.255945 -0.672352      0\n",
       "2  0.854479 -0.448528      0\n",
       "3  2.603090  0.733485      0\n",
       "4  0.253178  0.287514      1"
      ]
     },
     "execution_count": 113,
     "metadata": {},
     "output_type": "execute_result"
    }
   ],
   "source": [
    "data.head()"
   ]
  },
  {
   "cell_type": "code",
   "execution_count": 114,
   "id": "d35133cf",
   "metadata": {},
   "outputs": [],
   "source": [
    "# Descriptive statistics\n",
    "mean_2000= data['Early'].mean()\n",
    "median_2000 = data['Early'].median()\n",
    "var_2000 = data['Early'].var()\n",
    "std_2000 = data['Early'].std()"
   ]
  },
  {
   "cell_type": "code",
   "execution_count": 115,
   "id": "210edf64",
   "metadata": {},
   "outputs": [],
   "source": [
    "mean_ = data['Mid'].mean()\n",
    "median_ = data['Mid'].median()\n",
    "var_ = data['Mid'].var()\n",
    "std_ = data['Mid'].std()"
   ]
  },
  {
   "cell_type": "code",
   "execution_count": 116,
   "id": "a799af93",
   "metadata": {},
   "outputs": [
    {
     "name": "stdout",
     "output_type": "stream",
     "text": [
      "Early: mean=0.5258396245654144, median=0.523749934813558, variance=1.1480199562689142, std=1.0714569315977727\n"
     ]
    }
   ],
   "source": [
    "print(f\"Early: mean={mean_2000}, median={median_2000}, variance={var_2000}, std={std_2000}\")"
   ]
  },
  {
   "cell_type": "code",
   "execution_count": 117,
   "id": "2dadd668",
   "metadata": {
    "scrolled": true
   },
   "outputs": [
    {
     "name": "stdout",
     "output_type": "stream",
     "text": [
      "Mid: mean=-0.012693103895032632, median=-0.050302076144572216, variance=0.7848185395861093, std=0.8858998473789852\n"
     ]
    }
   ],
   "source": [
    "print(f\"Mid: mean={mean_}, median={median_}, variance={var_}, std={std_}\")"
   ]
  },
  {
   "cell_type": "code",
   "execution_count": 118,
   "id": "22880d6c",
   "metadata": {},
   "outputs": [],
   "source": [
    "# Extract the two columns of interest\n",
    "early_col = data['Early']\n",
    "mid_col = data['Mid']"
   ]
  },
  {
   "cell_type": "code",
   "execution_count": 119,
   "id": "a9f0d1bc",
   "metadata": {},
   "outputs": [
    {
     "name": "stdout",
     "output_type": "stream",
     "text": [
      "Conditional probability: 0.03801866135247242\n"
     ]
    }
   ],
   "source": [
    "# Calculate the conditional probability\n",
    "cov = np.cov(early_col, mid_col)\n",
    "cond_prob = cov[0, 1] / cov[1, 1]\n",
    "print(\"Conditional probability:\", cond_prob)"
   ]
  },
  {
   "cell_type": "code",
   "execution_count": 120,
   "id": "1fe69498",
   "metadata": {},
   "outputs": [
    {
     "name": "stdout",
     "output_type": "stream",
     "text": [
      "Posterior probability:\n",
      " 0      0.574031\n",
      "1      0.495507\n",
      "2      0.505799\n",
      "3      0.560150\n",
      "4      0.539644\n",
      "         ...   \n",
      "995    0.524200\n",
      "996    0.512859\n",
      "997    0.513148\n",
      "998    0.577889\n",
      "999    0.584219\n",
      "Name: Mid, Length: 1000, dtype: float64\n"
     ]
    }
   ],
   "source": [
    "# Calculate the posterior probability for each value of the \"Mid\" column\n",
    "mid_mean = np.mean(mid_col)\n",
    "mid_std = np.std(mid_col)\n",
    "early_mean = np.mean(early_col)\n",
    "early_std = np.std(early_col)\n",
    "post_prob = (cond_prob * (mid_col - mid_mean) / mid_std * early_std) + early_mean\n",
    "print(\"Posterior probability:\\n\", post_prob)"
   ]
  },
  {
   "cell_type": "code",
   "execution_count": 121,
   "id": "c2712707",
   "metadata": {},
   "outputs": [],
   "source": [
    "# Extract the column of interest\n",
    "col = data['Early']"
   ]
  },
  {
   "cell_type": "code",
   "execution_count": 122,
   "id": "e98f9e8e",
   "metadata": {},
   "outputs": [],
   "source": [
    "# Calculate the PMF\n",
    "pmf, bin_edges = np.histogram(col, bins='auto', density=True)\n",
    "pmf = pmf / np.sum(pmf)"
   ]
  },
  {
   "cell_type": "code",
   "execution_count": 123,
   "id": "34fceeb3",
   "metadata": {},
   "outputs": [],
   "source": [
    "# Calculate the CDF\n",
    "cdf = np.cumsum(pmf)"
   ]
  },
  {
   "cell_type": "code",
   "execution_count": 124,
   "id": "f5aa249c",
   "metadata": {},
   "outputs": [],
   "source": [
    "# Calculate the PDF\n",
    "pdf = stats.gaussian_kde(col)"
   ]
  },
  {
   "cell_type": "code",
   "execution_count": 125,
   "id": "c0c71bbf",
   "metadata": {},
   "outputs": [],
   "source": [
    "# Generate a range of values for the PDF\n",
    "pdf_range = np.linspace(min(col), max(col), 1000)\n",
    "# Evaluate the PDF at the range of values\n",
    "pdf_values = pdf.evaluate(pdf_range)"
   ]
  },
  {
   "cell_type": "code",
   "execution_count": 126,
   "id": "631f5f4e",
   "metadata": {},
   "outputs": [
    {
     "name": "stdout",
     "output_type": "stream",
     "text": [
      "PMF:\n",
      " [0.003 0.001 0.003 0.009 0.011 0.018 0.029 0.038 0.051 0.077 0.089 0.094\n",
      " 0.109 0.097 0.095 0.077 0.066 0.053 0.034 0.013 0.016 0.007 0.005 0.005]\n",
      "CDF:\n",
      " [0.003 0.004 0.007 0.016 0.027 0.045 0.074 0.112 0.163 0.24  0.329 0.423\n",
      " 0.532 0.629 0.724 0.801 0.867 0.92  0.954 0.967 0.983 0.99  0.995 1.   ]\n"
     ]
    }
   ],
   "source": [
    "# Print the results\n",
    "print(\"PMF:\\n\", pmf)\n",
    "print(\"CDF:\\n\", cdf)\n"
   ]
  },
  {
   "cell_type": "code",
   "execution_count": 127,
   "id": "744042c6",
   "metadata": {},
   "outputs": [
    {
     "name": "stdout",
     "output_type": "stream",
     "text": [
      "PDF Values:\n",
      " [0.00484572 0.004909   0.00497124 0.00503238 0.00509241 0.0051513\n",
      " 0.00520902 0.00526557 0.00532092 0.00537506 0.00542799 0.0054797\n",
      " 0.00553019 0.00557948 0.00562755 0.00567444 0.00572016 0.00576473\n",
      " 0.00580817 0.00585053 0.00589182 0.0059321  0.0059714  0.00600978\n",
      " 0.00604729 0.00608399 0.00611994 0.0061552  0.00618985 0.00622397\n",
      " 0.00625762 0.0062909  0.0063239  0.0063567  0.00638939 0.00642209\n",
      " 0.00645489 0.00648789 0.00652121 0.00655495 0.00658923 0.00662417\n",
      " 0.00665988 0.00669649 0.00673413 0.00677291 0.00681296 0.00685441\n",
      " 0.0068974  0.00694204 0.00698848 0.00703684 0.00708725 0.00713985\n",
      " 0.00719476 0.00725212 0.00731205 0.00737468 0.00744014 0.00750856\n",
      " 0.00758005 0.00765474 0.00773274 0.00781418 0.00789916 0.00798779\n",
      " 0.00808018 0.00817644 0.00827666 0.00838093 0.00848935 0.00860201\n",
      " 0.00871898 0.00884034 0.00896617 0.00909653 0.00923149 0.0093711\n",
      " 0.00951541 0.00966446 0.00981831 0.00997698 0.0101405  0.0103089\n",
      " 0.01048219 0.01066038 0.01084347 0.01103148 0.01122438 0.01142217\n",
      " 0.01162482 0.01183232 0.01204464 0.01226172 0.01248355 0.01271006\n",
      " 0.0129412  0.01317693 0.01341717 0.01366185 0.01391091 0.01416426\n",
      " 0.01442183 0.01468353 0.01494927 0.01521896 0.01549249 0.01576978\n",
      " 0.01605071 0.01633518 0.01662309 0.01691432 0.01720876 0.0175063\n",
      " 0.01780683 0.01811023 0.01841638 0.01872518 0.01903649 0.01935023\n",
      " 0.01966626 0.01998447 0.02030477 0.02062703 0.02095116 0.02127705\n",
      " 0.0216046  0.02193373 0.02226433 0.02259632 0.02292961 0.02326414\n",
      " 0.02359983 0.02393661 0.02427442 0.02461321 0.02495293 0.02529354\n",
      " 0.025635   0.0259773  0.0263204  0.0266643  0.027009   0.0273545\n",
      " 0.02770081 0.02804796 0.02839597 0.02874487 0.02909472 0.02944558\n",
      " 0.02979749 0.03015053 0.03050479 0.03086035 0.03121729 0.03157574\n",
      " 0.03193579 0.03229756 0.03266118 0.03302677 0.03339449 0.03376446\n",
      " 0.03413685 0.03451179 0.03488947 0.03527003 0.03565365 0.0360405\n",
      " 0.03643076 0.0368246  0.03722221 0.03762376 0.03802944 0.03843943\n",
      " 0.03885391 0.03927307 0.03969709 0.04012614 0.04056041 0.04100006\n",
      " 0.04144527 0.04189619 0.042353   0.04281585 0.04328488 0.04376025\n",
      " 0.04424208 0.0447305  0.04522564 0.04572761 0.04623651 0.04675244\n",
      " 0.04727548 0.04780571 0.0483432  0.04888799 0.04944014 0.04999968\n",
      " 0.05056663 0.051141   0.05172279 0.052312   0.0529086  0.05351256\n",
      " 0.05412383 0.05474236 0.05536808 0.05600093 0.0566408  0.0572876\n",
      " 0.05794124 0.05860158 0.0592685  0.05994188 0.06062156 0.0613074\n",
      " 0.06199924 0.06269691 0.06340025 0.06410907 0.06482319 0.06554243\n",
      " 0.06626659 0.06699549 0.06772892 0.06846669 0.06920859 0.06995443\n",
      " 0.07070401 0.07145711 0.07221355 0.07297313 0.07373565 0.07450092\n",
      " 0.07526876 0.07603898 0.0768114  0.07758585 0.07836216 0.07914018\n",
      " 0.07991976 0.08070074 0.08148299 0.08226639 0.08305082 0.08383617\n",
      " 0.08462234 0.08540923 0.08619679 0.08698492 0.08777359 0.08856274\n",
      " 0.08935235 0.09014238 0.09093282 0.09172369 0.09251498 0.09330673\n",
      " 0.09409896 0.09489174 0.0956851  0.09647913 0.09727391 0.09806952\n",
      " 0.09886608 0.09966368 0.10046246 0.10126256 0.1020641  0.10286725\n",
      " 0.10367218 0.10447904 0.10528802 0.10609931 0.1069131  0.10772959\n",
      " 0.108549   0.10937153 0.11019742 0.11102689 0.11186017 0.1126975\n",
      " 0.11353913 0.1143853  0.11523626 0.11609227 0.11695358 0.11782045\n",
      " 0.11869314 0.11957192 0.12045705 0.12134879 0.12224742 0.12315319\n",
      " 0.12406637 0.12498723 0.12591604 0.12685305 0.12779852 0.12875271\n",
      " 0.12971589 0.1306883  0.1316702  0.13266183 0.13366343 0.13467525\n",
      " 0.13569752 0.13673046 0.13777431 0.13882927 0.13989558 0.14097342\n",
      " 0.142063   0.14316451 0.14427813 0.14540405 0.14654242 0.14769342\n",
      " 0.14885718 0.15003385 0.15122356 0.15242643 0.15364256 0.15487206\n",
      " 0.15611501 0.15737148 0.15864152 0.1599252  0.16122254 0.16253356\n",
      " 0.16385826 0.16519664 0.16654866 0.1679143  0.16929348 0.17068613\n",
      " 0.17209217 0.17351149 0.17494396 0.17638943 0.17784775 0.17931873\n",
      " 0.18080219 0.18229789 0.18380561 0.1853251  0.18685608 0.18839825\n",
      " 0.18995132 0.19151495 0.1930888  0.1946725  0.19626567 0.1978679\n",
      " 0.19947879 0.2010979  0.20272477 0.20435895 0.20599995 0.20764727\n",
      " 0.2093004  0.21095882 0.212622   0.21428939 0.21596043 0.21763455\n",
      " 0.21931118 0.22098972 0.2226696  0.22435021 0.22603094 0.22771121\n",
      " 0.22939039 0.23106788 0.23274307 0.23441534 0.23608411 0.23774876\n",
      " 0.23940869 0.24106333 0.24271207 0.24435435 0.24598961 0.24761728\n",
      " 0.24923683 0.25084773 0.25244946 0.25404152 0.25562344 0.25719474\n",
      " 0.25875498 0.26030373 0.26184058 0.26336516 0.26487709 0.26637603\n",
      " 0.26786166 0.26933369 0.27079185 0.27223588 0.27366558 0.27508073\n",
      " 0.27648117 0.27786675 0.27923735 0.28059288 0.28193327 0.28325846\n",
      " 0.28456845 0.28586324 0.28714285 0.28840734 0.28965679 0.29089129\n",
      " 0.29211096 0.29331596 0.29450643 0.29568257 0.29684457 0.29799265\n",
      " 0.29912705 0.30024802 0.30135582 0.30245074 0.30353306 0.30460308\n",
      " 0.30566112 0.3067075  0.30774254 0.30876657 0.30977994 0.31078298\n",
      " 0.31177603 0.31275943 0.31373353 0.31469866 0.31565516 0.31660335\n",
      " 0.31754356 0.3184761  0.31940127 0.32031938 0.3212307  0.32213551\n",
      " 0.32303406 0.32392659 0.32481333 0.32569449 0.32657026 0.32744081\n",
      " 0.3283063  0.32916685 0.33002259 0.3308736  0.33171994 0.33256167\n",
      " 0.33339882 0.33423137 0.33505931 0.33588259 0.33670114 0.33751486\n",
      " 0.33832365 0.33912736 0.33992582 0.34071886 0.34150626 0.3422878\n",
      " 0.34306322 0.34383226 0.34459462 0.34535    0.34609807 0.34683848\n",
      " 0.34757088 0.34829488 0.34901011 0.34971615 0.3504126  0.35109903\n",
      " 0.35177501 0.35244009 0.35309384 0.35373579 0.35436551 0.35498252\n",
      " 0.35558638 0.35617662 0.3567528  0.35731446 0.35786116 0.35839247\n",
      " 0.35890795 0.35940718 0.35988977 0.36035531 0.36080342 0.36123375\n",
      " 0.36164593 0.36203964 0.36241456 0.36277041 0.36310691 0.36342381\n",
      " 0.36372089 0.36399794 0.36425478 0.36449127 0.36470728 0.3649027\n",
      " 0.36507747 0.36523152 0.36536486 0.36547747 0.36556941 0.36564073\n",
      " 0.36569152 0.3657219  0.36573202 0.36572205 0.36569218 0.36564265\n",
      " 0.3655737  0.36548559 0.36537864 0.36525315 0.36510947 0.36494796\n",
      " 0.364769   0.36457299 0.36436034 0.36413149 0.36388687 0.36362696\n",
      " 0.36335223 0.36306314 0.3627602  0.36244389 0.36211472 0.3617732\n",
      " 0.36141984 0.36105513 0.36067959 0.36029373 0.35989805 0.35949304\n",
      " 0.35907918 0.35865697 0.35822686 0.35778932 0.35734479 0.35689369\n",
      " 0.35643644 0.35597345 0.35550508 0.35503169 0.35455363 0.35407121\n",
      " 0.35358472 0.35309444 0.35260061 0.35210346 0.35160318 0.35109995\n",
      " 0.35059391 0.35008519 0.34957386 0.34906002 0.34854368 0.34802488\n",
      " 0.34750359 0.34697978 0.34645339 0.34592434 0.3453925  0.34485775\n",
      " 0.34431992 0.34377884 0.34323431 0.34268611 0.34213399 0.34157771\n",
      " 0.34101699 0.34045154 0.33988105 0.33930523 0.33872373 0.33813623\n",
      " 0.33754238 0.33694184 0.33633425 0.33571925 0.3350965  0.33446562\n",
      " 0.33382626 0.33317807 0.33252071 0.33185381 0.33117706 0.33049013\n",
      " 0.32979269 0.32908446 0.32836513 0.32763443 0.3268921  0.3261379\n",
      " 0.32537161 0.32459302 0.32380194 0.32299821 0.32218168 0.32135224\n",
      " 0.32050979 0.31965425 0.31878558 0.31790374 0.31700873 0.31610057\n",
      " 0.31517932 0.31424504 0.31329782 0.31233779 0.31136508 0.31037986\n",
      " 0.30938233 0.30837267 0.30735114 0.30631797 0.30527344 0.30421784\n",
      " 0.30315147 0.30207466 0.30098774 0.29989106 0.29878499 0.29766991\n",
      " 0.2965462  0.29541426 0.29427449 0.29312729 0.29197309 0.2908123\n",
      " 0.28964533 0.28847262 0.28729456 0.28611159 0.28492411 0.28373253\n",
      " 0.28253725 0.28133867 0.28013715 0.27893308 0.27772682 0.27651872\n",
      " 0.27530911 0.27409832 0.27288664 0.27167437 0.27046178 0.26924911\n",
      " 0.26803662 0.26682451 0.26561297 0.2644022  0.26319233 0.26198351\n",
      " 0.26077585 0.25956945 0.25836438 0.2571607  0.25595843 0.25475759\n",
      " 0.25355817 0.25236014 0.25116347 0.24996808 0.24877389 0.24758081\n",
      " 0.24638872 0.24519749 0.24400697 0.242817   0.24162742 0.24043804\n",
      " 0.23924865 0.23805907 0.23686907 0.23567843 0.23448692 0.23329432\n",
      " 0.23210037 0.23090485 0.22970751 0.2285081  0.22730638 0.2261021\n",
      " 0.22489503 0.22368493 0.22247157 0.2212547  0.22003413 0.21880962\n",
      " 0.21758098 0.21634801 0.21511052 0.21386833 0.21262128 0.21136921\n",
      " 0.21011199 0.20884948 0.20758157 0.20630815 0.20502916 0.2037445\n",
      " 0.20245412 0.20115799 0.19985607 0.19854836 0.19723486 0.19591558\n",
      " 0.19459057 0.19325988 0.19192357 0.19058171 0.18923441 0.18788178\n",
      " 0.18652393 0.18516101 0.18379317 0.18242057 0.18104338 0.17966179\n",
      " 0.178276   0.17688622 0.17549267 0.17409558 0.17269519 0.17129175\n",
      " 0.1698855  0.16847672 0.16706566 0.16565262 0.16423786 0.16282167\n",
      " 0.16140435 0.15998619 0.15856747 0.15714852 0.15572962 0.15431107\n",
      " 0.1528932  0.15147629 0.15006066 0.14864661 0.14723445 0.14582448\n",
      " 0.144417   0.14301231 0.14161072 0.14021252 0.138818   0.13742745\n",
      " 0.13604117 0.13465944 0.13328253 0.13191072 0.1305443  0.12918352\n",
      " 0.12782866 0.12647997 0.12513771 0.12380213 0.12247348 0.121152\n",
      " 0.11983794 0.11853151 0.11723296 0.1159425  0.11466035 0.11338672\n",
      " 0.11212183 0.11086587 0.10961904 0.10838153 0.10715352 0.10593521\n",
      " 0.10472675 0.10352833 0.1023401  0.10116222 0.09999484 0.0988381\n",
      " 0.09769215 0.0965571  0.0954331  0.09432025 0.09321867 0.09212846\n",
      " 0.09104971 0.08998252 0.08892697 0.08788313 0.08685107 0.08583084\n",
      " 0.0848225  0.08382608 0.08284163 0.08186916 0.0809087  0.07996025\n",
      " 0.07902381 0.07809937 0.07718692 0.07628643 0.07539787 0.07452118\n",
      " 0.07365632 0.07280323 0.07196185 0.07113208 0.07031385 0.06950707\n",
      " 0.06871162 0.06792742 0.06715433 0.06639223 0.065641   0.0649005\n",
      " 0.06417059 0.06345111 0.06274191 0.06204284 0.06135373 0.06067441\n",
      " 0.06000471 0.05934445 0.05869345 0.05805153 0.05741851 0.0567942\n",
      " 0.05617841 0.05557096 0.05497165 0.0543803  0.05379672 0.05322072\n",
      " 0.05265211 0.05209071 0.05153633 0.05098881 0.05044795 0.04991358\n",
      " 0.04938554 0.04886365 0.04834776 0.0478377  0.04733333 0.04683448\n",
      " 0.04634103 0.04585283 0.04536974 0.04489164 0.04441841 0.04394993\n",
      " 0.0434861  0.0430268  0.04257193 0.04212142 0.04167516 0.04123308\n",
      " 0.0407951  0.04036115 0.03993117 0.03950509 0.03908287 0.03866446\n",
      " 0.0382498  0.03783887 0.03743161 0.03702802 0.03662805 0.03623168\n",
      " 0.03583889 0.03544968 0.03506401 0.03468189 0.0343033  0.03392823\n",
      " 0.03355669 0.03318868 0.03282418 0.0324632  0.03210575 0.03175182\n",
      " 0.03140141 0.03105454 0.03071121 0.03037142 0.03003517 0.02970247\n",
      " 0.02937332 0.02904773 0.02872569 0.02840721 0.02809229 0.02778093\n",
      " 0.02747313 0.02716888 0.02686818 0.02657102 0.02627741 0.02598732\n",
      " 0.02570076 0.02541771 0.02513815 0.02486208 0.02458948 0.02432033\n",
      " 0.02405461 0.02379231 0.02353339 0.02327784 0.02302564 0.02277674\n",
      " 0.02253114 0.02228879 0.02204966 0.02181373 0.02158095 0.0213513\n",
      " 0.02112473 0.0209012  0.02068067 0.0204631  0.02024845 0.02003667\n",
      " 0.01982771 0.01962152 0.01941806 0.01921726 0.01901909 0.01882347\n",
      " 0.01863037 0.01843971 0.01825143 0.01806549 0.01788181 0.01770033\n",
      " 0.01752099 0.01734372 0.01716845 0.01699512 0.01682365 0.01665397\n",
      " 0.01648601 0.0163197  0.01615496 0.01599172 0.01582991 0.01566944\n",
      " 0.01551025 0.01535226 0.01519538 0.01503955 0.01488469 0.01473072\n",
      " 0.01457757 0.01442516 0.01427341 0.01412227 0.01397165 0.01382148\n",
      " 0.01367169 0.01352222 0.01337301 0.01322398 0.01307508 0.01292625\n",
      " 0.01277744 0.01262858 0.01247963 0.01233055 0.01218128 0.01203179\n",
      " 0.01188203 0.01173199 0.01158162 0.0114309  0.0112798  0.01112832\n",
      " 0.01097643 0.01082412 0.01067139 0.01051824 0.01036467 0.01021069\n",
      " 0.0100563  0.00990152 0.00974638 0.00959089]\n"
     ]
    }
   ],
   "source": [
    "print(\"PDF Values:\\n\", pdf_values)"
   ]
  },
  {
   "cell_type": "code",
   "execution_count": 128,
   "id": "a1f04b1f",
   "metadata": {},
   "outputs": [],
   "source": [
    "# Define the probability distribution parameters\n",
    "mu_early = np.mean(early_col)\n",
    "mu_mid = np.mean(mid_col)\n",
    "sigma_early = np.std(early_col)\n",
    "sigma_mid = np.std(mid_col)"
   ]
  },
  {
   "cell_type": "code",
   "execution_count": 129,
   "id": "b5fa8c79",
   "metadata": {},
   "outputs": [],
   "source": [
    "# Create a range of x values\n",
    "x = np.linspace(0, 20, 1000)"
   ]
  },
  {
   "cell_type": "code",
   "execution_count": 130,
   "id": "bf9b8f07",
   "metadata": {},
   "outputs": [],
   "source": [
    "# Calculate the probability density function (PDF) for a Gaussian distribution\n",
    "pdf_gaussian_early = stats.norm.pdf(x, loc=mu_early, scale=sigma_early)\n",
    "pdf_gaussian_mid = stats.norm.pdf(x, loc=mu_mid, scale=sigma_mid)"
   ]
  },
  {
   "cell_type": "code",
   "execution_count": 131,
   "id": "dc093d15",
   "metadata": {},
   "outputs": [],
   "source": [
    "# Calculate the probability mass function (PMF) for a binomial distribution\n",
    "n = len(early)\n",
    "p = 0.5\n",
    "pmf_binomial_early = stats.binom.pmf(np.arange(n+1), n, p)\n",
    "pmf_binomial_mid = stats.binom.pmf(np.arange(n+1), n, p)"
   ]
  },
  {
   "cell_type": "code",
   "execution_count": 132,
   "id": "5bc3b207",
   "metadata": {},
   "outputs": [],
   "source": [
    "# Calculate the probability mass function (PMF) for a Bernoulli distribution\n",
    "pmf_bernoulli_early = stats.bernoulli.pmf(np.arange(2), p)\n",
    "pmf_bernoulli_mid = stats.bernoulli.pmf(np.arange(2), p)"
   ]
  },
  {
   "cell_type": "code",
   "execution_count": 133,
   "id": "9fc9fd90",
   "metadata": {},
   "outputs": [
    {
     "data": {
      "image/png": "[encoded data removed]",
      "text/plain": [
       "<Figure size 1080x360 with 3 Axes>"
      ]
     },
     "metadata": {
      "needs_background": "light"
     },
     "output_type": "display_data"
    }
   ],
   "source": [
    "# Plot the PDF and PMFs\n",
    "fig, ax = plt.subplots(1, 3, figsize=(15, 5))\n",
    "\n",
    "ax[0].plot(x, pdf_mid)\n",
    "ax[0].set_title(\"Gaussian PDF\")\n",
    "\n",
    "ax[1].bar(np.arange(n+1), pmf_binomial)\n",
    "ax[1].set_title(\"Binomial PMF\")\n",
    "\n",
    "ax[2].bar(np.arange(2), pmf_bernoulli)\n",
    "ax[2].set_title(\"Bernoulli PMF\")\n",
    "\n",
    "plt.show()"
   ]
  },
  {
   "cell_type": "code",
   "execution_count": null,
   "id": "f5f15d9c",
   "metadata": {},
   "outputs": [],
   "source": []
  }
 ],
 "metadata": {
  "kernelspec": {
   "display_name": "Python 3 (ipykernel)",
   "language": "python",
   "name": "python3"
  },
  "language_info": {
   "codemirror_mode": {
    "name": "ipython",
    "version": 3
   },
   "file_extension": ".py",
   "mimetype": "text/x-python",
   "name": "python",
   "nbconvert_exporter": "python",
   "pygments_lexer": "ipython3",
   "version": "3.9.7"
  }
 },
 "nbformat": 4,
 "nbformat_minor": 5
}
